{
  "nbformat": 4,
  "nbformat_minor": 0,
  "metadata": {
    "colab": {
      "provenance": []
    },
    "kernelspec": {
      "name": "python3",
      "display_name": "Python 3"
    },
    "language_info": {
      "name": "python"
    }
  },
  "cells": [
    {
      "cell_type": "code",
      "execution_count": 1,
      "metadata": {
        "colab": {
          "base_uri": "https://localhost:8080/"
        },
        "id": "_J0rFdBSo4wA",
        "outputId": "7af5928f-7510-449e-88de-15ce57a1370d"
      },
      "outputs": [
        {
          "output_type": "stream",
          "name": "stdout",
          "text": [
            "cp: cannot stat 'kaggle.json': No such file or directory\n",
            "chmod: cannot access '/root/.kaggle/kaggle.json': No such file or directory\n",
            "Warning: Looks like you're using an outdated API Version, please consider updating (server 1.6.14 / client 1.6.12)\n",
            "Dataset URL: https://www.kaggle.com/datasets/dhruvildave/new-york-city-taxi-trips-2019\n",
            "License(s): ODC Attribution License (ODC-By)\n",
            "Downloading new-york-city-taxi-trips-2019.zip to /content\n",
            "100% 2.38G/2.38G [00:27<00:00, 133MB/s]\n",
            "100% 2.38G/2.38G [00:27<00:00, 92.6MB/s]\n",
            "Archive:  new-york-city-taxi-trips-2019.zip\n",
            "  inflating: 2019/2019-01.sqlite     \n",
            "  inflating: 2019/2019-02.sqlite     \n",
            "  inflating: 2019/2019-03.sqlite     \n",
            "  inflating: 2019/2019-04.sqlite     \n",
            "  inflating: 2019/2019-05.sqlite     \n",
            "  inflating: 2019/2019-06.sqlite     \n",
            "  inflating: 2019/2019-07.sqlite     \n",
            "  inflating: 2019/2019-08.sqlite     \n",
            "  inflating: 2019/2019-09.sqlite     \n",
            "  inflating: 2019/2019-10.sqlite     \n",
            "  inflating: 2019/2019-11.sqlite     \n",
            "  inflating: 2019/2019-12.sqlite     \n",
            "  inflating: data_dictionary.pdf     \n",
            "  inflating: taxi_zone_lookup.csv    \n",
            "  inflating: taxi_zones/taxi_zones.dbf  \n",
            "  inflating: taxi_zones/taxi_zones.prj  \n",
            "  inflating: taxi_zones/taxi_zones.sbn  \n",
            "  inflating: taxi_zones/taxi_zones.sbx  \n",
            "  inflating: taxi_zones/taxi_zones.shp  \n",
            "  inflating: taxi_zones/taxi_zones.shp.xml  \n",
            "  inflating: taxi_zones/taxi_zones.shx  \n"
          ]
        }
      ],
      "source": [
        "!mkdir ~/.kaggle\n",
        "!cp kaggle.json ~/.kaggle/\n",
        "!chmod 600 ~/.kaggle/kaggle.json\n",
        "!kaggle datasets download -d dhruvildave/new-york-city-taxi-trips-2019\n",
        "!unzip new-york-city-taxi-trips-2019.zip"
      ]
    },
    {
      "cell_type": "code",
      "source": [
        "!apt-get install openjdk-8-jdk-headless -qq > /dev/null\n",
        "!wget -q http://archive.apache.org/dist/spark/spark-3.1.1/spark-3.1.1-bin-hadoop3.2.tgz\n",
        "!wget https://repo1.maven.org/maven2/org/xerial/sqlite-jdbc/3.34.0/sqlite-jdbc-3.34.0.jar\n",
        "!tar xf spark-3.1.1-bin-hadoop3.2.tgz\n",
        "!pip install -q findspark\n",
        "!pip install -q pysqlite3"
      ],
      "metadata": {
        "id": "vmTbAq8No9kp",
        "colab": {
          "base_uri": "https://localhost:8080/"
        },
        "outputId": "73e998d4-93cc-4a26-bda1-f04511025ba7"
      },
      "execution_count": 2,
      "outputs": [
        {
          "output_type": "stream",
          "name": "stdout",
          "text": [
            "--2024-05-18 11:34:41--  https://repo1.maven.org/maven2/org/xerial/sqlite-jdbc/3.34.0/sqlite-jdbc-3.34.0.jar\n",
            "Resolving repo1.maven.org (repo1.maven.org)... 199.232.192.209, 199.232.196.209, 2a04:4e42:4c::209, ...\n",
            "Connecting to repo1.maven.org (repo1.maven.org)|199.232.192.209|:443... connected.\n",
            "HTTP request sent, awaiting response... 200 OK\n",
            "Length: 7296329 (7.0M) [application/java-archive]\n",
            "Saving to: ‘sqlite-jdbc-3.34.0.jar’\n",
            "\n",
            "\rsqlite-jdbc-3.34.0.   0%[                    ]       0  --.-KB/s               \rsqlite-jdbc-3.34.0. 100%[===================>]   6.96M  --.-KB/s    in 0.1s    \n",
            "\n",
            "2024-05-18 11:34:41 (68.2 MB/s) - ‘sqlite-jdbc-3.34.0.jar’ saved [7296329/7296329]\n",
            "\n",
            "\u001b[2K     \u001b[90m━━━━━━━━━━━━━━━━━━━━━━━━━━━━━━━━━━━━━━━━\u001b[0m \u001b[32m40.7/40.7 kB\u001b[0m \u001b[31m1.5 MB/s\u001b[0m eta \u001b[36m0:00:00\u001b[0m\n",
            "\u001b[?25h  Preparing metadata (setup.py) ... \u001b[?25l\u001b[?25hdone\n",
            "  Building wheel for pysqlite3 (setup.py) ... \u001b[?25l\u001b[?25hdone\n"
          ]
        }
      ]
    },
    {
      "cell_type": "code",
      "source": [
        "import os\n",
        "os.environ['JAVA_HOME'] = '/usr/lib/jvm/java-8-openjdk-amd64'\n",
        "os.environ['SPARK_HOME'] = '/content/spark-3.1.1-bin-hadoop3.2'"
      ],
      "metadata": {
        "id": "TyshbnAmqS_R"
      },
      "execution_count": 1,
      "outputs": []
    },
    {
      "cell_type": "code",
      "source": [
        "import findspark\n",
        "findspark.init()"
      ],
      "metadata": {
        "id": "RailRAfuKvs-"
      },
      "execution_count": 2,
      "outputs": []
    },
    {
      "cell_type": "code",
      "source": [
        "from pyspark.sql import SparkSession\n",
        "spark = SparkSession \\\n",
        "    .builder \\\n",
        "    .appName(\"Predicate Pushdown\") \\\n",
        "    .config('spark.jars.packages', 'org.xerial:sqlite-jdbc:3.39.3.0') \\\n",
        "    .master(\"local[*]\") \\\n",
        "    .getOrCreate()\n",
        "spark"
      ],
      "metadata": {
        "colab": {
          "base_uri": "https://localhost:8080/",
          "height": 219
        },
        "id": "92Z9iSKDK95e",
        "outputId": "d757b0a6-ddd6-4cad-f58f-5810058cd40c"
      },
      "execution_count": 3,
      "outputs": [
        {
          "output_type": "execute_result",
          "data": {
            "text/plain": [
              "<pyspark.sql.session.SparkSession at 0x7fe56577fc40>"
            ],
            "text/html": [
              "\n",
              "            <div>\n",
              "                <p><b>SparkSession - in-memory</b></p>\n",
              "                \n",
              "        <div>\n",
              "            <p><b>SparkContext</b></p>\n",
              "\n",
              "            <p><a href=\"http://46dce4726063:4040\">Spark UI</a></p>\n",
              "\n",
              "            <dl>\n",
              "              <dt>Version</dt>\n",
              "                <dd><code>v3.1.1</code></dd>\n",
              "              <dt>Master</dt>\n",
              "                <dd><code>local[*]</code></dd>\n",
              "              <dt>AppName</dt>\n",
              "                <dd><code>Predicate Pushdown</code></dd>\n",
              "            </dl>\n",
              "        </div>\n",
              "        \n",
              "            </div>\n",
              "        "
            ]
          },
          "metadata": {},
          "execution_count": 3
        }
      ]
    },
    {
      "cell_type": "code",
      "source": [
        "driver: str = \"org.sqlite.JDBC\"\n",
        "db_path01: str = \"2019/2019-01.sqlite\"\n",
        "db_path02: str = \"2019/2019-02.sqlite\"\n",
        "db_path03: str = \"2019/2019-03.sqlite\"\n",
        "db_path04: str = \"2019/2019-04.sqlite\"\n",
        "db_path05: str = \"2019/2019-05.sqlite\"\n",
        "db_path06: str = \"2019/2019-06.sqlite\"\n",
        "db_path07: str = \"2019/2019-07.sqlite\"\n",
        "db_path08: str = \"2019/2019-08.sqlite\"\n",
        "db_path09: str = \"2019/2019-09.sqlite\"\n",
        "db_path10: str = \"2019/2019-10.sqlite\"\n",
        "db_path11: str = \"2019/2019-11.sqlite\"\n",
        "db_path12: str = \"2019/2019-12.sqlite\"\n",
        "jdbc_url01: str = \"jdbc:sqlite:\" + db_path02\n",
        "jdbc_url02: str = \"jdbc:sqlite:\" + db_path01\n",
        "jdbc_url03: str = \"jdbc:sqlite:\" + db_path03\n",
        "jdbc_url04: str = \"jdbc:sqlite:\" + db_path04\n",
        "jdbc_url05: str = \"jdbc:sqlite:\" + db_path05\n",
        "jdbc_url06: str = \"jdbc:sqlite:\" + db_path06\n",
        "jdbc_url07: str = \"jdbc:sqlite:\" + db_path07\n",
        "jdbc_url08: str = \"jdbc:sqlite:\" + db_path08\n",
        "jdbc_url09: str = \"jdbc:sqlite:\" + db_path09\n",
        "jdbc_url10: str = \"jdbc:sqlite:\" + db_path10\n",
        "jdbc_url11: str = \"jdbc:sqlite:\" + db_path11\n",
        "jdbc_url12: str = \"jdbc:sqlite:\" + db_path12\n",
        "table_name: str = \"tripdata\""
      ],
      "metadata": {
        "id": "KuqqMwHFNcJu"
      },
      "execution_count": 4,
      "outputs": []
    },
    {
      "cell_type": "code",
      "source": [
        "df01 = spark \\\n",
        "    .read \\\n",
        "    .format(\"jdbc\") \\\n",
        "    .option(\"driver\", driver) \\\n",
        "    .option(\"url\", jdbc_url01) \\\n",
        "    .option(\"dbtable\", table_name) \\\n",
        "    .load()\n",
        "# df.printSchema()\n",
        "df01.show(10, False)"
      ],
      "metadata": {
        "colab": {
          "base_uri": "https://localhost:8080/"
        },
        "id": "-su5CiOuLDWm",
        "outputId": "d83a20a6-cc69-43a9-cd99-9e555f089b93"
      },
      "execution_count": 5,
      "outputs": [
        {
          "output_type": "stream",
          "name": "stdout",
          "text": [
            "+--------+--------------------+---------------------+---------------+-------------+----------+------------------+------------+------------+------------+-----------+-----+-------+----------+------------+---------------------+------------+--------------------+\n",
            "|vendorid|tpep_pickup_datetime|tpep_dropoff_datetime|passenger_count|trip_distance|ratecodeid|store_and_fwd_flag|pulocationid|dolocationid|payment_type|fare_amount|extra|mta_tax|tip_amount|tolls_amount|improvement_surcharge|total_amount|congestion_surcharge|\n",
            "+--------+--------------------+---------------------+---------------+-------------+----------+------------------+------------+------------+------------+-----------+-----+-------+----------+------------+---------------------+------------+--------------------+\n",
            "|1.0     |2019-02-01          |2019-02-01           |1.0            |2.1          |1.0       |N                 |48.0        |234.0       |1.0         |9.0        |0.5  |0.5    |2.0       |0.0         |0.3                  |12.3        |0.0                 |\n",
            "|1.0     |2019-02-01          |2019-02-01           |1.0            |9.8          |1.0       |N                 |230.0       |93.0        |2.0         |32.0       |0.5  |0.5    |0.0       |0.0         |0.3                  |33.3        |0.0                 |\n",
            "|1.0     |2019-02-01          |2019-02-01           |1.0            |0.0          |1.0       |N                 |145.0       |145.0       |2.0         |2.5        |0.5  |0.5    |0.0       |0.0         |0.3                  |3.8         |0.0                 |\n",
            "|1.0     |2019-02-01          |2019-02-01           |1.0            |0.8          |1.0       |N                 |95.0        |95.0        |2.0         |5.5        |0.5  |0.5    |0.0       |0.0         |0.3                  |6.8         |0.0                 |\n",
            "|1.0     |2019-02-01          |2019-02-01           |1.0            |0.8          |1.0       |N                 |140.0       |263.0       |2.0         |5.0        |0.5  |0.5    |0.0       |0.0         |0.3                  |6.3         |0.0                 |\n",
            "|1.0     |2019-02-01          |2019-02-01           |1.0            |0.8          |1.0       |N                 |229.0       |141.0       |2.0         |4.5        |0.5  |0.5    |0.0       |0.0         |0.3                  |5.8         |0.0                 |\n",
            "|1.0     |2019-02-01          |2019-02-01           |1.0            |0.9          |1.0       |N                 |75.0        |41.0        |2.0         |5.0        |0.5  |0.5    |0.0       |0.0         |0.3                  |6.3         |0.0                 |\n",
            "|1.0     |2019-02-01          |2019-02-01           |1.0            |2.8          |1.0       |N                 |246.0       |229.0       |2.0         |14.0       |0.5  |0.5    |0.0       |0.0         |0.3                  |15.3        |0.0                 |\n",
            "|1.0     |2019-02-01          |2019-02-01           |1.0            |2.1          |1.0       |N                 |79.0        |232.0       |2.0         |10.5       |0.5  |0.5    |0.0       |0.0         |0.3                  |11.8        |0.0                 |\n",
            "|2.0     |2019-01-31          |2019-01-31           |1.0            |0.49         |1.0       |N                 |170.0       |234.0       |1.0         |4.0        |0.5  |0.5    |1.7       |0.0         |0.3                  |7.0         |0.0                 |\n",
            "+--------+--------------------+---------------------+---------------+-------------+----------+------------------+------------+------------+------------+-----------+-----+-------+----------+------------+---------------------+------------+--------------------+\n",
            "only showing top 10 rows\n",
            "\n"
          ]
        }
      ]
    },
    {
      "cell_type": "code",
      "source": [
        "df02 = spark \\\n",
        "    .read \\\n",
        "    .format(\"jdbc\") \\\n",
        "    .option(\"driver\", driver) \\\n",
        "    .option(\"url\", jdbc_url02) \\\n",
        "    .option(\"dbtable\", table_name) \\\n",
        "    .load()\n",
        "# df.printSchema()\n",
        "df02.show(10, False)"
      ],
      "metadata": {
        "colab": {
          "base_uri": "https://localhost:8080/"
        },
        "id": "oPEFRwM5GsoD",
        "outputId": "a474af59-9a4d-4e3f-ea67-9be52551d013"
      },
      "execution_count": 6,
      "outputs": [
        {
          "output_type": "stream",
          "name": "stdout",
          "text": [
            "+--------+--------------------+---------------------+---------------+-------------+----------+------------------+------------+------------+------------+-----------+-----+-------+----------+------------+---------------------+------------+--------------------+\n",
            "|vendorid|tpep_pickup_datetime|tpep_dropoff_datetime|passenger_count|trip_distance|ratecodeid|store_and_fwd_flag|pulocationid|dolocationid|payment_type|fare_amount|extra|mta_tax|tip_amount|tolls_amount|improvement_surcharge|total_amount|congestion_surcharge|\n",
            "+--------+--------------------+---------------------+---------------+-------------+----------+------------------+------------+------------+------------+-----------+-----+-------+----------+------------+---------------------+------------+--------------------+\n",
            "|1.0     |2019-01-01          |2019-01-01           |1.0            |1.5          |1.0       |N                 |151.0       |239.0       |1.0         |7.0        |0.5  |0.5    |1.65      |0.0         |0.3                  |9.95        |null                |\n",
            "|1.0     |2019-01-01          |2019-01-01           |1.0            |2.6          |1.0       |N                 |239.0       |246.0       |1.0         |14.0       |0.5  |0.5    |1.0       |0.0         |0.3                  |16.3        |null                |\n",
            "|2.0     |2018-12-21          |2018-12-21           |3.0            |0.0          |1.0       |N                 |236.0       |236.0       |1.0         |4.5        |0.5  |0.5    |0.0       |0.0         |0.3                  |5.8         |null                |\n",
            "|2.0     |2018-11-28          |2018-11-28           |5.0            |0.0          |1.0       |N                 |193.0       |193.0       |2.0         |3.5        |0.5  |0.5    |0.0       |0.0         |0.3                  |7.55        |null                |\n",
            "|2.0     |2018-11-28          |2018-11-28           |5.0            |0.0          |2.0       |N                 |193.0       |193.0       |2.0         |52.0       |0.0  |0.5    |0.0       |0.0         |0.3                  |55.55       |null                |\n",
            "|2.0     |2018-11-28          |2018-11-28           |5.0            |0.0          |1.0       |N                 |193.0       |193.0       |2.0         |3.5        |0.5  |0.5    |0.0       |5.76        |0.3                  |13.31       |null                |\n",
            "|2.0     |2018-11-28          |2018-11-28           |5.0            |0.0          |2.0       |N                 |193.0       |193.0       |2.0         |52.0       |0.0  |0.5    |0.0       |0.0         |0.3                  |55.55       |null                |\n",
            "|1.0     |2019-01-01          |2019-01-01           |1.0            |1.3          |1.0       |N                 |163.0       |229.0       |1.0         |6.5        |0.5  |0.5    |1.25      |0.0         |0.3                  |9.05        |null                |\n",
            "|1.0     |2019-01-01          |2019-01-01           |1.0            |3.7          |1.0       |N                 |229.0       |7.0         |1.0         |13.5       |0.5  |0.5    |3.7       |0.0         |0.3                  |18.5        |null                |\n",
            "|1.0     |2019-01-01          |2019-01-01           |2.0            |2.1          |1.0       |N                 |141.0       |234.0       |1.0         |10.0       |0.5  |0.5    |1.7       |0.0         |0.3                  |13.0        |null                |\n",
            "+--------+--------------------+---------------------+---------------+-------------+----------+------------------+------------+------------+------------+-----------+-----+-------+----------+------------+---------------------+------------+--------------------+\n",
            "only showing top 10 rows\n",
            "\n"
          ]
        }
      ]
    },
    {
      "cell_type": "code",
      "source": [
        "df03 = spark \\\n",
        "    .read \\\n",
        "    .format(\"jdbc\") \\\n",
        "    .option(\"driver\", driver) \\\n",
        "    .option(\"url\", jdbc_url03) \\\n",
        "    .option(\"dbtable\", table_name) \\\n",
        "    .load()\n",
        "# df.printSchema()\n",
        "df03.show(10, False)"
      ],
      "metadata": {
        "colab": {
          "base_uri": "https://localhost:8080/"
        },
        "id": "aXnZ2pQeGsky",
        "outputId": "105bf10c-b209-4c1c-a35b-c9755551f17c"
      },
      "execution_count": 7,
      "outputs": [
        {
          "output_type": "stream",
          "name": "stdout",
          "text": [
            "+--------+--------------------+---------------------+---------------+-------------+----------+------------------+------------+------------+------------+-----------+-----+-------+----------+------------+---------------------+------------+--------------------+\n",
            "|vendorid|tpep_pickup_datetime|tpep_dropoff_datetime|passenger_count|trip_distance|ratecodeid|store_and_fwd_flag|pulocationid|dolocationid|payment_type|fare_amount|extra|mta_tax|tip_amount|tolls_amount|improvement_surcharge|total_amount|congestion_surcharge|\n",
            "+--------+--------------------+---------------------+---------------+-------------+----------+------------------+------------+------------+------------+-----------+-----+-------+----------+------------+---------------------+------------+--------------------+\n",
            "|1.0     |2019-03-01          |2019-03-01           |1.0            |0.0          |1.0       |N                 |145.0       |145.0       |2.0         |2.5        |0.5  |0.5    |0.0       |0.0         |0.3                  |3.8         |0.0                 |\n",
            "|1.0     |2019-03-01          |2019-03-01           |2.0            |3.7          |1.0       |N                 |95.0        |130.0       |1.0         |13.0       |0.5  |0.5    |0.7       |0.0         |0.3                  |15.0        |0.0                 |\n",
            "|1.0     |2019-03-01          |2019-03-01           |1.0            |14.1         |1.0       |N                 |249.0       |28.0        |1.0         |41.0       |3.0  |0.5    |10.1      |5.76        |0.3                  |60.66       |2.5                 |\n",
            "|1.0     |2019-03-01          |2019-03-01           |1.0            |9.6          |1.0       |N                 |138.0       |98.0        |2.0         |27.0       |0.5  |0.5    |0.0       |0.0         |0.3                  |28.3        |0.0                 |\n",
            "|1.0     |2019-03-01          |2019-03-01           |1.0            |0.8          |1.0       |N                 |48.0        |48.0        |1.0         |5.5        |3.0  |0.5    |3.0       |0.0         |0.3                  |12.3        |2.5                 |\n",
            "|1.0     |2019-03-01          |2019-03-01           |1.0            |1.2          |1.0       |N                 |246.0       |48.0        |2.0         |6.0        |3.0  |0.5    |0.0       |0.0         |0.3                  |9.8         |2.5                 |\n",
            "|1.0     |2019-03-01          |2019-03-01           |1.0            |0.6          |1.0       |Y                 |239.0       |238.0       |2.0         |5.5        |3.0  |0.5    |0.0       |0.0         |0.3                  |9.3         |2.5                 |\n",
            "|2.0     |2019-02-28          |2019-02-28           |1.0            |5.65         |1.0       |N                 |132.0       |197.0       |2.0         |17.0       |0.5  |0.5    |0.0       |0.0         |0.3                  |18.3        |0.0                 |\n",
            "|2.0     |2019-03-01          |2019-03-01           |1.0            |1.16         |1.0       |N                 |229.0       |170.0       |1.0         |6.0        |0.5  |0.5    |2.45      |0.0         |0.3                  |12.25       |2.5                 |\n",
            "|2.0     |2019-03-01          |2019-03-01           |1.0            |0.71         |1.0       |N                 |137.0       |234.0       |1.0         |5.0        |0.5  |0.5    |1.0       |0.0         |0.3                  |9.8         |2.5                 |\n",
            "+--------+--------------------+---------------------+---------------+-------------+----------+------------------+------------+------------+------------+-----------+-----+-------+----------+------------+---------------------+------------+--------------------+\n",
            "only showing top 10 rows\n",
            "\n"
          ]
        }
      ]
    },
    {
      "cell_type": "code",
      "source": [
        "df04 = spark \\\n",
        "    .read \\\n",
        "    .format(\"jdbc\") \\\n",
        "    .option(\"driver\", driver) \\\n",
        "    .option(\"url\", jdbc_url04) \\\n",
        "    .option(\"dbtable\", table_name) \\\n",
        "    .load()\n",
        "# df.printSchema()\n",
        "df04.show(10, False)"
      ],
      "metadata": {
        "colab": {
          "base_uri": "https://localhost:8080/"
        },
        "id": "sWVNRGVYGshk",
        "outputId": "a676b1c2-00ba-4eda-b9a7-a993e8bcede4"
      },
      "execution_count": 8,
      "outputs": [
        {
          "output_type": "stream",
          "name": "stdout",
          "text": [
            "+--------+--------------------+---------------------+---------------+-------------+----------+------------------+------------+------------+------------+-----------+-----+-------+----------+------------+---------------------+------------+--------------------+\n",
            "|vendorid|tpep_pickup_datetime|tpep_dropoff_datetime|passenger_count|trip_distance|ratecodeid|store_and_fwd_flag|pulocationid|dolocationid|payment_type|fare_amount|extra|mta_tax|tip_amount|tolls_amount|improvement_surcharge|total_amount|congestion_surcharge|\n",
            "+--------+--------------------+---------------------+---------------+-------------+----------+------------------+------------+------------+------------+-----------+-----+-------+----------+------------+---------------------+------------+--------------------+\n",
            "|1.0     |2019-04-01          |2019-04-01           |1.0            |0.5          |1.0       |N                 |239.0       |239.0       |1.0         |4.0        |3.0  |0.5    |1.0       |0.0         |0.3                  |8.8         |2.5                 |\n",
            "|1.0     |2019-04-01          |2019-04-01           |1.0            |0.7          |1.0       |N                 |230.0       |100.0       |2.0         |4.5        |3.0  |0.5    |0.0       |0.0         |0.3                  |8.3         |2.5                 |\n",
            "|1.0     |2019-04-01          |2019-04-01           |1.0            |10.9         |1.0       |N                 |68.0        |127.0       |1.0         |36.0       |3.0  |0.5    |7.95      |0.0         |0.3                  |47.75       |2.5                 |\n",
            "|1.0     |2019-04-01          |2019-04-01           |1.0            |0.2          |1.0       |N                 |68.0        |68.0        |2.0         |3.5        |3.0  |0.5    |0.0       |0.0         |0.3                  |7.3         |2.5                 |\n",
            "|1.0     |2019-04-01          |2019-04-01           |1.0            |4.8          |1.0       |N                 |50.0        |42.0        |1.0         |15.5       |3.0  |0.5    |3.85      |0.0         |0.3                  |23.15       |2.5                 |\n",
            "|1.0     |2019-04-01          |2019-04-01           |1.0            |1.7          |1.0       |N                 |95.0        |196.0       |2.0         |8.5        |0.5  |0.5    |0.0       |0.0         |0.3                  |9.8         |0.0                 |\n",
            "|1.0     |2019-04-01          |2019-04-01           |1.0            |0.0          |1.0       |N                 |211.0       |211.0       |3.0         |3.0        |3.0  |0.5    |0.0       |0.0         |0.3                  |6.8         |2.5                 |\n",
            "|1.0     |2019-04-01          |2019-04-01           |1.0            |0.2          |1.0       |N                 |237.0       |162.0       |1.0         |4.0        |3.0  |0.5    |0.0       |0.0         |0.3                  |7.8         |2.5                 |\n",
            "|2.0     |2019-04-01          |2019-04-01           |1.0            |4.15         |1.0       |N                 |148.0       |37.0        |2.0         |16.5       |0.5  |0.5    |0.0       |0.0         |0.3                  |20.3        |2.5                 |\n",
            "|1.0     |2019-04-01          |2019-04-01           |1.0            |0.0          |5.0       |N                 |265.0       |265.0       |2.0         |0.01       |0.0  |0.0    |0.0       |0.0         |0.3                  |0.31        |0.0                 |\n",
            "+--------+--------------------+---------------------+---------------+-------------+----------+------------------+------------+------------+------------+-----------+-----+-------+----------+------------+---------------------+------------+--------------------+\n",
            "only showing top 10 rows\n",
            "\n"
          ]
        }
      ]
    },
    {
      "cell_type": "code",
      "source": [
        "df04 = spark \\\n",
        "    .read \\\n",
        "    .format(\"jdbc\") \\\n",
        "    .option(\"driver\", driver) \\\n",
        "    .option(\"url\", jdbc_url04) \\\n",
        "    .option(\"dbtable\", table_name) \\\n",
        "    .load()\n",
        "# df.printSchema()\n",
        "df04.show(10, False)"
      ],
      "metadata": {
        "colab": {
          "base_uri": "https://localhost:8080/"
        },
        "id": "WT6cv2gQGseS",
        "outputId": "d82fcff2-6c7f-4fd8-bf1d-7cf913ab7109"
      },
      "execution_count": 9,
      "outputs": [
        {
          "output_type": "stream",
          "name": "stdout",
          "text": [
            "+--------+--------------------+---------------------+---------------+-------------+----------+------------------+------------+------------+------------+-----------+-----+-------+----------+------------+---------------------+------------+--------------------+\n",
            "|vendorid|tpep_pickup_datetime|tpep_dropoff_datetime|passenger_count|trip_distance|ratecodeid|store_and_fwd_flag|pulocationid|dolocationid|payment_type|fare_amount|extra|mta_tax|tip_amount|tolls_amount|improvement_surcharge|total_amount|congestion_surcharge|\n",
            "+--------+--------------------+---------------------+---------------+-------------+----------+------------------+------------+------------+------------+-----------+-----+-------+----------+------------+---------------------+------------+--------------------+\n",
            "|1.0     |2019-04-01          |2019-04-01           |1.0            |0.5          |1.0       |N                 |239.0       |239.0       |1.0         |4.0        |3.0  |0.5    |1.0       |0.0         |0.3                  |8.8         |2.5                 |\n",
            "|1.0     |2019-04-01          |2019-04-01           |1.0            |0.7          |1.0       |N                 |230.0       |100.0       |2.0         |4.5        |3.0  |0.5    |0.0       |0.0         |0.3                  |8.3         |2.5                 |\n",
            "|1.0     |2019-04-01          |2019-04-01           |1.0            |10.9         |1.0       |N                 |68.0        |127.0       |1.0         |36.0       |3.0  |0.5    |7.95      |0.0         |0.3                  |47.75       |2.5                 |\n",
            "|1.0     |2019-04-01          |2019-04-01           |1.0            |0.2          |1.0       |N                 |68.0        |68.0        |2.0         |3.5        |3.0  |0.5    |0.0       |0.0         |0.3                  |7.3         |2.5                 |\n",
            "|1.0     |2019-04-01          |2019-04-01           |1.0            |4.8          |1.0       |N                 |50.0        |42.0        |1.0         |15.5       |3.0  |0.5    |3.85      |0.0         |0.3                  |23.15       |2.5                 |\n",
            "|1.0     |2019-04-01          |2019-04-01           |1.0            |1.7          |1.0       |N                 |95.0        |196.0       |2.0         |8.5        |0.5  |0.5    |0.0       |0.0         |0.3                  |9.8         |0.0                 |\n",
            "|1.0     |2019-04-01          |2019-04-01           |1.0            |0.0          |1.0       |N                 |211.0       |211.0       |3.0         |3.0        |3.0  |0.5    |0.0       |0.0         |0.3                  |6.8         |2.5                 |\n",
            "|1.0     |2019-04-01          |2019-04-01           |1.0            |0.2          |1.0       |N                 |237.0       |162.0       |1.0         |4.0        |3.0  |0.5    |0.0       |0.0         |0.3                  |7.8         |2.5                 |\n",
            "|2.0     |2019-04-01          |2019-04-01           |1.0            |4.15         |1.0       |N                 |148.0       |37.0        |2.0         |16.5       |0.5  |0.5    |0.0       |0.0         |0.3                  |20.3        |2.5                 |\n",
            "|1.0     |2019-04-01          |2019-04-01           |1.0            |0.0          |5.0       |N                 |265.0       |265.0       |2.0         |0.01       |0.0  |0.0    |0.0       |0.0         |0.3                  |0.31        |0.0                 |\n",
            "+--------+--------------------+---------------------+---------------+-------------+----------+------------------+------------+------------+------------+-----------+-----+-------+----------+------------+---------------------+------------+--------------------+\n",
            "only showing top 10 rows\n",
            "\n"
          ]
        }
      ]
    },
    {
      "cell_type": "code",
      "source": [
        "df05 = spark \\\n",
        "    .read \\\n",
        "    .format(\"jdbc\") \\\n",
        "    .option(\"driver\", driver) \\\n",
        "    .option(\"url\", jdbc_url05) \\\n",
        "    .option(\"dbtable\", table_name) \\\n",
        "    .load()\n",
        "# df.printSchema()\n",
        "df05.show(10, False)"
      ],
      "metadata": {
        "colab": {
          "base_uri": "https://localhost:8080/"
        },
        "id": "sY16tX6KGsba",
        "outputId": "55106bb1-4edf-4fb4-db65-e7908c94a2dd"
      },
      "execution_count": 10,
      "outputs": [
        {
          "output_type": "stream",
          "name": "stdout",
          "text": [
            "+--------+--------------------+---------------------+---------------+-------------+----------+------------------+------------+------------+------------+-----------+-----+-------+----------+------------+---------------------+------------+--------------------+\n",
            "|vendorid|tpep_pickup_datetime|tpep_dropoff_datetime|passenger_count|trip_distance|ratecodeid|store_and_fwd_flag|pulocationid|dolocationid|payment_type|fare_amount|extra|mta_tax|tip_amount|tolls_amount|improvement_surcharge|total_amount|congestion_surcharge|\n",
            "+--------+--------------------+---------------------+---------------+-------------+----------+------------------+------------+------------+------------+-----------+-----+-------+----------+------------+---------------------+------------+--------------------+\n",
            "|1.0     |2019-05-01          |2019-05-01           |1.0            |0.0          |1.0       |N                 |145.0       |145.0       |2.0         |3.0        |0.5  |0.5    |0.0       |0.0         |0.3                  |4.3         |0.0                 |\n",
            "|1.0     |2019-05-01          |2019-05-01           |1.0            |1.5          |1.0       |N                 |145.0       |145.0       |2.0         |3.0        |0.5  |0.5    |0.0       |0.0         |0.3                  |4.3         |0.0                 |\n",
            "|1.0     |2019-05-01          |2019-05-01           |1.0            |1.5          |1.0       |N                 |145.0       |145.0       |2.0         |2.5        |0.5  |0.5    |0.0       |0.0         |0.3                  |3.8         |0.0                 |\n",
            "|1.0     |2019-05-01          |2019-05-01           |1.0            |0.7          |1.0       |N                 |161.0       |161.0       |2.0         |5.0        |3.0  |0.5    |0.0       |0.0         |0.3                  |8.8         |2.5                 |\n",
            "|1.0     |2019-05-01          |2019-05-01           |1.0            |2.0          |1.0       |N                 |163.0       |141.0       |1.0         |9.5        |3.0  |0.5    |2.0       |0.0         |0.3                  |15.3        |2.5                 |\n",
            "|2.0     |2019-05-01          |2019-05-01           |1.0            |0.0          |1.0       |N                 |193.0       |193.0       |2.0         |2.5        |0.5  |0.5    |0.0       |0.0         |0.3                  |3.8         |0.0                 |\n",
            "|2.0     |2019-05-01          |2019-05-01           |1.0            |0.0          |1.0       |N                 |193.0       |193.0       |2.0         |2.5        |0.5  |0.5    |0.0       |0.0         |0.3                  |3.8         |0.0                 |\n",
            "|1.0     |2019-05-01          |2019-05-01           |1.0            |2.5          |1.0       |N                 |260.0       |56.0        |2.0         |10.0       |0.5  |0.5    |0.0       |0.0         |0.3                  |11.3        |0.0                 |\n",
            "|1.0     |2019-05-01          |2019-05-01           |1.0            |2.8          |1.0       |N                 |56.0        |226.0       |2.0         |11.5       |0.5  |0.5    |0.0       |0.0         |0.3                  |12.8        |0.0                 |\n",
            "|1.0     |2019-05-01          |2019-05-01           |1.0            |2.0          |1.0       |N                 |79.0        |164.0       |1.0         |8.0        |3.0  |0.5    |2.35      |0.0         |0.3                  |14.15       |2.5                 |\n",
            "+--------+--------------------+---------------------+---------------+-------------+----------+------------------+------------+------------+------------+-----------+-----+-------+----------+------------+---------------------+------------+--------------------+\n",
            "only showing top 10 rows\n",
            "\n"
          ]
        }
      ]
    },
    {
      "cell_type": "code",
      "source": [
        "df06 = spark \\\n",
        "    .read \\\n",
        "    .format(\"jdbc\") \\\n",
        "    .option(\"driver\", driver) \\\n",
        "    .option(\"url\", jdbc_url06) \\\n",
        "    .option(\"dbtable\", table_name) \\\n",
        "    .load()\n",
        "# df.printSchema()\n",
        "df06.show(10, False)"
      ],
      "metadata": {
        "colab": {
          "base_uri": "https://localhost:8080/"
        },
        "id": "4YzUc6mnGsYa",
        "outputId": "7df97b9a-ff2d-402f-d5c6-6e1d94487b7f"
      },
      "execution_count": 11,
      "outputs": [
        {
          "output_type": "stream",
          "name": "stdout",
          "text": [
            "+--------+--------------------+---------------------+---------------+-------------+----------+------------------+------------+------------+------------+-----------+-----+-------+----------+------------+---------------------+------------+--------------------+\n",
            "|vendorid|tpep_pickup_datetime|tpep_dropoff_datetime|passenger_count|trip_distance|ratecodeid|store_and_fwd_flag|pulocationid|dolocationid|payment_type|fare_amount|extra|mta_tax|tip_amount|tolls_amount|improvement_surcharge|total_amount|congestion_surcharge|\n",
            "+--------+--------------------+---------------------+---------------+-------------+----------+------------------+------------+------------+------------+-----------+-----+-------+----------+------------+---------------------+------------+--------------------+\n",
            "|1.0     |2019-06-01          |2019-06-01           |1.0            |0.0          |1.0       |N                 |145.0       |145.0       |2.0         |3.0        |0.5  |0.5    |0.0       |0.0         |0.3                  |4.3         |0.0                 |\n",
            "|1.0     |2019-06-01          |2019-06-01           |1.0            |0.0          |1.0       |N                 |262.0       |263.0       |2.0         |2.5        |3.0  |0.5    |0.0       |0.0         |0.3                  |6.3         |2.5                 |\n",
            "|1.0     |2019-06-01          |2019-06-01           |1.0            |4.4          |1.0       |N                 |74.0        |7.0         |2.0         |17.5       |0.5  |0.5    |0.0       |0.0         |0.3                  |18.8        |0.0                 |\n",
            "|1.0     |2019-06-01          |2019-06-01           |0.0            |0.8          |1.0       |N                 |145.0       |145.0       |2.0         |2.5        |1.0  |0.5    |0.0       |0.0         |0.3                  |4.3         |0.0                 |\n",
            "|1.0     |2019-06-01          |2019-06-01           |1.0            |1.7          |1.0       |N                 |113.0       |148.0       |1.0         |9.5        |3.0  |0.5    |2.65      |0.0         |0.3                  |15.95       |2.5                 |\n",
            "|1.0     |2019-06-01          |2019-06-01           |2.0            |1.6          |1.0       |N                 |79.0        |125.0       |1.0         |9.5        |3.0  |0.5    |1.0       |0.0         |0.3                  |14.3        |2.5                 |\n",
            "|1.0     |2019-06-01          |2019-06-01           |4.0            |0.6          |1.0       |N                 |211.0       |148.0       |2.0         |4.5        |3.0  |0.5    |0.0       |0.0         |0.3                  |8.3         |2.5                 |\n",
            "|1.0     |2019-06-01          |2019-06-01           |2.0            |1.2          |1.0       |N                 |79.0        |249.0       |1.0         |7.5        |3.0  |0.5    |1.0       |0.0         |0.3                  |12.3        |2.5                 |\n",
            "|1.0     |2019-06-01          |2019-06-01           |2.0            |2.0          |1.0       |N                 |158.0       |68.0        |2.0         |11.5       |3.0  |0.5    |0.0       |0.0         |0.3                  |15.3        |2.5                 |\n",
            "|1.0     |2019-06-01          |2019-06-01           |1.0            |8.6          |1.0       |N                 |186.0       |243.0       |1.0         |31.5       |3.0  |0.5    |7.05      |0.0         |0.3                  |42.35       |2.5                 |\n",
            "+--------+--------------------+---------------------+---------------+-------------+----------+------------------+------------+------------+------------+-----------+-----+-------+----------+------------+---------------------+------------+--------------------+\n",
            "only showing top 10 rows\n",
            "\n"
          ]
        }
      ]
    },
    {
      "cell_type": "code",
      "source": [
        "df07 = spark \\\n",
        "    .read \\\n",
        "    .format(\"jdbc\") \\\n",
        "    .option(\"driver\", driver) \\\n",
        "    .option(\"url\", jdbc_url07) \\\n",
        "    .option(\"dbtable\", table_name) \\\n",
        "    .load()\n",
        "# df.printSchema()\n",
        "df07.show(10, False)"
      ],
      "metadata": {
        "colab": {
          "base_uri": "https://localhost:8080/"
        },
        "id": "Mse7D5bTGsV6",
        "outputId": "ddd795c3-1e62-4236-c896-fdf764f33893"
      },
      "execution_count": 12,
      "outputs": [
        {
          "output_type": "stream",
          "name": "stdout",
          "text": [
            "+--------+--------------------+---------------------+---------------+-------------+----------+------------------+------------+------------+------------+-----------+-----+-------+----------+------------+---------------------+------------+--------------------+\n",
            "|vendorid|tpep_pickup_datetime|tpep_dropoff_datetime|passenger_count|trip_distance|ratecodeid|store_and_fwd_flag|pulocationid|dolocationid|payment_type|fare_amount|extra|mta_tax|tip_amount|tolls_amount|improvement_surcharge|total_amount|congestion_surcharge|\n",
            "+--------+--------------------+---------------------+---------------+-------------+----------+------------------+------------+------------+------------+-----------+-----+-------+----------+------------+---------------------+------------+--------------------+\n",
            "|2.0     |2019-07-01          |2019-07-01           |1.0            |0.0          |1.0       |N                 |193.0       |193.0       |1.0         |2.5        |0.5  |0.5    |1.14      |0.0         |0.3                  |4.94        |0.0                 |\n",
            "|2.0     |2019-07-01          |2019-07-01           |1.0            |4.16         |1.0       |N                 |234.0       |25.0        |2.0         |16.5       |0.5  |0.5    |0.0       |0.0         |0.3                  |20.3        |2.5                 |\n",
            "|1.0     |2019-07-01          |2019-07-01           |1.0            |18.8         |2.0       |N                 |132.0       |42.0        |1.0         |52.0       |0.0  |0.5    |11.75     |6.12        |0.3                  |70.67       |0.0                 |\n",
            "|2.0     |2019-07-01          |2019-07-01           |1.0            |18.46        |2.0       |N                 |132.0       |142.0       |1.0         |52.0       |0.0  |0.5    |11.06     |0.0         |0.3                  |66.36       |2.5                 |\n",
            "|1.0     |2019-07-01          |2019-07-01           |0.0            |1.7          |1.0       |N                 |107.0       |114.0       |1.0         |9.5        |3.0  |0.5    |2.0       |0.0         |0.3                  |15.3        |2.5                 |\n",
            "|1.0     |2019-07-01          |2019-07-01           |0.0            |2.1          |1.0       |N                 |125.0       |45.0        |1.0         |10.0       |3.0  |0.5    |2.75      |0.0         |0.3                  |16.55       |2.5                 |\n",
            "|1.0     |2019-07-01          |2019-07-01           |1.0            |2.4          |1.0       |N                 |142.0       |68.0        |1.0         |13.0       |3.0  |0.5    |3.35      |0.0         |0.3                  |20.15       |2.5                 |\n",
            "|1.0     |2019-07-01          |2019-07-01           |1.0            |3.0          |1.0       |N                 |246.0       |141.0       |2.0         |12.5       |3.0  |0.5    |0.0       |0.0         |0.3                  |16.3        |2.5                 |\n",
            "|4.0     |2019-07-01          |2019-07-01           |1.0            |7.89         |1.0       |N                 |50.0        |80.0        |1.0         |26.0       |0.5  |0.5    |5.96      |0.0         |0.3                  |35.76       |2.5                 |\n",
            "|4.0     |2019-07-01          |2019-07-01           |1.0            |4.09         |1.0       |N                 |80.0        |97.0        |2.0         |15.0       |0.5  |0.5    |0.0       |0.0         |0.3                  |16.3        |0.0                 |\n",
            "+--------+--------------------+---------------------+---------------+-------------+----------+------------------+------------+------------+------------+-----------+-----+-------+----------+------------+---------------------+------------+--------------------+\n",
            "only showing top 10 rows\n",
            "\n"
          ]
        }
      ]
    },
    {
      "cell_type": "code",
      "source": [
        "df08 = spark \\\n",
        "    .read \\\n",
        "    .format(\"jdbc\") \\\n",
        "    .option(\"driver\", driver) \\\n",
        "    .option(\"url\", jdbc_url08) \\\n",
        "    .option(\"dbtable\", table_name) \\\n",
        "    .load()\n",
        "# df.printSchema()\n",
        "df08.show(10, False)"
      ],
      "metadata": {
        "colab": {
          "base_uri": "https://localhost:8080/"
        },
        "id": "-MWEIvnaGsTC",
        "outputId": "6cd092c9-9d8f-494d-ff58-982b7c7124a9"
      },
      "execution_count": 13,
      "outputs": [
        {
          "output_type": "stream",
          "name": "stdout",
          "text": [
            "+--------+--------------------+---------------------+---------------+-------------+----------+------------------+------------+------------+------------+-----------+-----+-------+----------+------------+---------------------+------------+--------------------+\n",
            "|vendorid|tpep_pickup_datetime|tpep_dropoff_datetime|passenger_count|trip_distance|ratecodeid|store_and_fwd_flag|pulocationid|dolocationid|payment_type|fare_amount|extra|mta_tax|tip_amount|tolls_amount|improvement_surcharge|total_amount|congestion_surcharge|\n",
            "+--------+--------------------+---------------------+---------------+-------------+----------+------------------+------------+------------+------------+-----------+-----+-------+----------+------------+---------------------+------------+--------------------+\n",
            "|1.0     |2019-08-01          |2019-08-01           |1.0            |0.0          |1.0       |N                 |145.0       |145.0       |2.0         |2.5        |0.5  |0.5    |0.0       |0.0         |0.3                  |3.8         |0.0                 |\n",
            "|1.0     |2019-08-01          |2019-08-01           |1.0            |0.0          |1.0       |N                 |145.0       |145.0       |2.0         |2.5        |0.5  |0.5    |0.0       |0.0         |0.3                  |3.8         |0.0                 |\n",
            "|1.0     |2019-08-01          |2019-08-01           |1.0            |7.1          |1.0       |N                 |145.0       |145.0       |2.0         |3.0        |0.5  |0.5    |0.0       |0.0         |0.3                  |4.3         |0.0                 |\n",
            "|1.0     |2019-08-01          |2019-08-01           |1.0            |0.0          |1.0       |N                 |145.0       |145.0       |2.0         |3.0        |0.5  |0.5    |0.0       |0.0         |0.3                  |4.3         |0.0                 |\n",
            "|1.0     |2019-08-01          |2019-08-01           |1.0            |0.0          |1.0       |N                 |145.0       |145.0       |2.0         |4.5        |0.5  |0.5    |0.0       |0.0         |0.3                  |5.8         |0.0                 |\n",
            "|1.0     |2019-08-01          |2019-08-01           |1.0            |7.3          |1.0       |N                 |234.0       |61.0        |1.0         |28.0       |3.0  |0.5    |7.95      |0.0         |0.3                  |39.75       |2.5                 |\n",
            "|1.0     |2019-08-01          |2019-08-01           |1.0            |0.0          |1.0       |N                 |145.0       |145.0       |2.0         |2.5        |0.5  |0.5    |0.0       |0.0         |0.3                  |3.8         |0.0                 |\n",
            "|2.0     |2019-08-01          |2019-08-01           |1.0            |0.0          |1.0       |N                 |145.0       |145.0       |2.0         |2.5        |0.0  |0.5    |0.0       |0.0         |0.3                  |3.3         |0.0                 |\n",
            "|2.0     |2019-08-01          |2019-08-01           |1.0            |0.0          |1.0       |N                 |193.0       |193.0       |1.0         |2.5        |0.5  |0.5    |0.76      |0.0         |0.3                  |4.56        |0.0                 |\n",
            "|1.0     |2019-08-01          |2019-08-01           |1.0            |6.5          |1.0       |N                 |90.0        |7.0         |1.0         |25.0       |3.0  |0.5    |4.32      |0.0         |0.3                  |33.12       |2.5                 |\n",
            "+--------+--------------------+---------------------+---------------+-------------+----------+------------------+------------+------------+------------+-----------+-----+-------+----------+------------+---------------------+------------+--------------------+\n",
            "only showing top 10 rows\n",
            "\n"
          ]
        }
      ]
    },
    {
      "cell_type": "code",
      "source": [
        "df09 = spark \\\n",
        "    .read \\\n",
        "    .format(\"jdbc\") \\\n",
        "    .option(\"driver\", driver) \\\n",
        "    .option(\"url\", jdbc_url09) \\\n",
        "    .option(\"dbtable\", table_name) \\\n",
        "    .load()\n",
        "# df.printSchema()\n",
        "df09.show(10, False)"
      ],
      "metadata": {
        "colab": {
          "base_uri": "https://localhost:8080/"
        },
        "id": "_JXkhH7qGsQi",
        "outputId": "3146b55c-aa08-4092-a9d7-bf08b36e8bc7"
      },
      "execution_count": 14,
      "outputs": [
        {
          "output_type": "stream",
          "name": "stdout",
          "text": [
            "+--------+--------------------+---------------------+---------------+-------------+----------+------------------+------------+------------+------------+-----------+-----+-------+----------+------------+---------------------+------------+--------------------+\n",
            "|vendorid|tpep_pickup_datetime|tpep_dropoff_datetime|passenger_count|trip_distance|ratecodeid|store_and_fwd_flag|pulocationid|dolocationid|payment_type|fare_amount|extra|mta_tax|tip_amount|tolls_amount|improvement_surcharge|total_amount|congestion_surcharge|\n",
            "+--------+--------------------+---------------------+---------------+-------------+----------+------------------+------------+------------+------------+-----------+-----+-------+----------+------------+---------------------+------------+--------------------+\n",
            "|1.0     |2019-09-01          |2019-09-01           |1.0            |2.0          |1.0       |N                 |186.0       |161.0       |2.0         |13.0       |3.0  |0.5    |0.0       |0.0         |0.3                  |16.8        |2.5                 |\n",
            "|1.0     |2019-09-01          |2019-09-01           |1.0            |5.5          |1.0       |N                 |161.0       |256.0       |2.0         |22.5       |3.0  |0.5    |0.0       |0.0         |0.3                  |26.3        |2.5                 |\n",
            "|1.0     |2019-09-01          |2019-09-01           |1.0            |2.9          |1.0       |N                 |145.0       |145.0       |2.0         |2.5        |0.5  |0.5    |0.0       |0.0         |0.3                  |3.8         |0.0                 |\n",
            "|1.0     |2019-09-01          |2019-09-01           |1.0            |0.0          |1.0       |N                 |145.0       |145.0       |2.0         |2.5        |0.5  |0.5    |0.0       |0.0         |0.3                  |3.8         |0.0                 |\n",
            "|1.0     |2019-09-01          |2019-09-01           |1.0            |1.5          |1.0       |N                 |95.0        |93.0        |2.0         |7.0        |0.5  |0.5    |0.0       |0.0         |0.3                  |8.3         |0.0                 |\n",
            "|1.0     |2019-09-01          |2019-09-01           |2.0            |8.3          |1.0       |N                 |161.0       |232.0       |1.0         |29.5       |3.0  |0.5    |6.66      |0.0         |0.3                  |39.96       |2.5                 |\n",
            "|2.0     |2019-08-31          |2019-08-31           |1.0            |1.3          |1.0       |N                 |163.0       |186.0       |1.0         |7.0        |0.5  |0.5    |2.0       |0.0         |0.3                  |12.8        |2.5                 |\n",
            "|2.0     |2019-09-01          |2019-09-01           |1.0            |1.2          |1.0       |N                 |137.0       |186.0       |1.0         |8.0        |0.5  |0.5    |2.36      |0.0         |0.3                  |14.16       |2.5                 |\n",
            "|2.0     |2019-09-01          |2019-09-01           |1.0            |11.17        |1.0       |N                 |48.0        |89.0        |1.0         |36.0       |0.5  |0.5    |7.96      |0.0         |0.3                  |47.76       |2.5                 |\n",
            "|2.0     |2019-09-01          |2019-09-01           |1.0            |5.81         |1.0       |N                 |24.0        |107.0       |1.0         |19.5       |0.5  |0.5    |4.66      |0.0         |0.3                  |27.96       |2.5                 |\n",
            "+--------+--------------------+---------------------+---------------+-------------+----------+------------------+------------+------------+------------+-----------+-----+-------+----------+------------+---------------------+------------+--------------------+\n",
            "only showing top 10 rows\n",
            "\n"
          ]
        }
      ]
    },
    {
      "cell_type": "code",
      "source": [
        "df10 = spark \\\n",
        "    .read \\\n",
        "    .format(\"jdbc\") \\\n",
        "    .option(\"driver\", driver) \\\n",
        "    .option(\"url\", jdbc_url10) \\\n",
        "    .option(\"dbtable\", table_name) \\\n",
        "    .load()\n",
        "# df.printSchema()\n",
        "df10.show(10, False)"
      ],
      "metadata": {
        "colab": {
          "base_uri": "https://localhost:8080/"
        },
        "id": "jZjDm6LIGsNq",
        "outputId": "4e420a5d-1f31-4b18-8c70-c2c7041644cc"
      },
      "execution_count": 15,
      "outputs": [
        {
          "output_type": "stream",
          "name": "stdout",
          "text": [
            "+--------+--------------------+---------------------+---------------+-------------+----------+------------------+------------+------------+------------+-----------+-----+-------+----------+------------+---------------------+------------+--------------------+\n",
            "|vendorid|tpep_pickup_datetime|tpep_dropoff_datetime|passenger_count|trip_distance|ratecodeid|store_and_fwd_flag|pulocationid|dolocationid|payment_type|fare_amount|extra|mta_tax|tip_amount|tolls_amount|improvement_surcharge|total_amount|congestion_surcharge|\n",
            "+--------+--------------------+---------------------+---------------+-------------+----------+------------------+------------+------------+------------+-----------+-----+-------+----------+------------+---------------------+------------+--------------------+\n",
            "|1.0     |2019-10-01          |2019-10-01           |1.0            |0.4          |1.0       |N                 |48.0        |163.0       |2.0         |4.5        |3.0  |0.5    |0.0       |0.0         |0.3                  |8.3         |2.5                 |\n",
            "|1.0     |2019-10-01          |2019-10-01           |2.0            |4.3          |1.0       |N                 |144.0       |141.0       |1.0         |14.5       |3.0  |0.5    |2.0       |0.0         |0.3                  |20.3        |2.5                 |\n",
            "|1.0     |2019-10-01          |2019-10-01           |1.0            |5.0          |1.0       |N                 |137.0       |80.0        |1.0         |17.0       |3.0  |0.5    |5.2       |0.0         |0.3                  |26.0        |2.5                 |\n",
            "|2.0     |2019-10-01          |2019-10-01           |1.0            |0.0          |1.0       |N                 |25.0        |25.0        |4.0         |-2.5       |-0.5 |-0.5   |0.0       |0.0         |-0.3                 |-3.8        |0.0                 |\n",
            "|2.0     |2019-10-01          |2019-10-01           |1.0            |0.0          |1.0       |N                 |25.0        |25.0        |2.0         |2.5        |0.5  |0.5    |0.0       |0.0         |0.3                  |3.8         |0.0                 |\n",
            "|2.0     |2019-10-01          |2019-10-01           |1.0            |0.0          |1.0       |N                 |193.0       |193.0       |1.0         |2.5        |0.5  |0.5    |0.0       |0.0         |0.3                  |3.8         |0.0                 |\n",
            "|2.0     |2019-10-01          |2019-10-01           |1.0            |0.0          |1.0       |N                 |193.0       |193.0       |2.0         |2.5        |0.5  |0.5    |0.0       |0.0         |0.3                  |3.8         |0.0                 |\n",
            "|2.0     |2019-10-01          |2019-10-01           |1.0            |0.0          |1.0       |N                 |193.0       |193.0       |2.0         |2.5        |0.5  |0.5    |0.0       |0.0         |0.3                  |3.8         |0.0                 |\n",
            "|1.0     |2019-10-01          |2019-10-01           |3.0            |2.2          |1.0       |N                 |163.0       |239.0       |1.0         |10.5       |3.0  |0.5    |2.85      |0.0         |0.3                  |17.15       |2.5                 |\n",
            "|1.0     |2019-10-01          |2019-10-01           |1.0            |13.0         |1.0       |N                 |234.0       |9.0         |1.0         |37.5       |3.0  |0.5    |9.45      |6.12        |0.3                  |56.87       |2.5                 |\n",
            "+--------+--------------------+---------------------+---------------+-------------+----------+------------------+------------+------------+------------+-----------+-----+-------+----------+------------+---------------------+------------+--------------------+\n",
            "only showing top 10 rows\n",
            "\n"
          ]
        }
      ]
    },
    {
      "cell_type": "code",
      "source": [
        "df11 = spark \\\n",
        "    .read \\\n",
        "    .format(\"jdbc\") \\\n",
        "    .option(\"driver\", driver) \\\n",
        "    .option(\"url\", jdbc_url11) \\\n",
        "    .option(\"dbtable\", table_name) \\\n",
        "    .load()\n",
        "# df.printSchema()\n",
        "df11.show(10, False)"
      ],
      "metadata": {
        "colab": {
          "base_uri": "https://localhost:8080/"
        },
        "id": "w1GyHhxNGsKa",
        "outputId": "531b91ed-73aa-48ec-9b48-7a95e97975fc"
      },
      "execution_count": 16,
      "outputs": [
        {
          "output_type": "stream",
          "name": "stdout",
          "text": [
            "+--------+--------------------+---------------------+---------------+-------------+----------+------------------+------------+------------+------------+-----------+-----+-------+----------+------------+---------------------+------------+--------------------+\n",
            "|vendorid|tpep_pickup_datetime|tpep_dropoff_datetime|passenger_count|trip_distance|ratecodeid|store_and_fwd_flag|pulocationid|dolocationid|payment_type|fare_amount|extra|mta_tax|tip_amount|tolls_amount|improvement_surcharge|total_amount|congestion_surcharge|\n",
            "+--------+--------------------+---------------------+---------------+-------------+----------+------------------+------------+------------+------------+-----------+-----+-------+----------+------------+---------------------+------------+--------------------+\n",
            "|1.0     |2019-11-01          |2019-11-01           |1.0            |0.0          |1.0       |N                 |145.0       |145.0       |2.0         |3.0        |0.5  |0.5    |0.0       |0.0         |0.3                  |4.3         |0.0                 |\n",
            "|1.0     |2019-11-01          |2019-11-01           |1.0            |0.0          |1.0       |N                 |145.0       |145.0       |2.0         |2.5        |0.5  |0.5    |0.0       |0.0         |0.3                  |3.8         |0.0                 |\n",
            "|2.0     |2019-11-01          |2019-11-01           |1.0            |0.0          |1.0       |N                 |193.0       |193.0       |1.0         |2.5        |0.5  |0.5    |0.95      |0.0         |0.3                  |4.75        |0.0                 |\n",
            "|2.0     |2019-11-01          |2019-11-01           |1.0            |0.0          |1.0       |N                 |193.0       |193.0       |1.0         |2.5        |0.5  |0.5    |0.95      |0.0         |0.3                  |4.75        |0.0                 |\n",
            "|2.0     |2019-11-01          |2019-11-01           |2.0            |0.0          |1.0       |N                 |226.0       |226.0       |2.0         |2.5        |0.0  |0.5    |0.0       |0.0         |0.3                  |3.3         |0.0                 |\n",
            "|1.0     |2019-11-01          |2019-11-01           |1.0            |8.5          |1.0       |N                 |138.0       |161.0       |1.0         |32.0       |3.0  |0.5    |8.35      |6.12        |0.3                  |50.27       |2.5                 |\n",
            "|1.0     |2019-11-01          |2019-11-01           |1.0            |0.3          |1.0       |N                 |239.0       |142.0       |2.0         |3.5        |3.0  |0.5    |0.0       |0.0         |0.3                  |7.3         |2.5                 |\n",
            "|1.0     |2019-11-01          |2019-11-01           |1.0            |1.9          |1.0       |N                 |142.0       |262.0       |2.0         |8.5        |3.0  |0.5    |0.0       |0.0         |0.3                  |12.3        |2.5                 |\n",
            "|1.0     |2019-11-01          |2019-11-01           |1.0            |0.5          |1.0       |N                 |246.0       |186.0       |2.0         |5.5        |3.0  |0.5    |0.0       |0.0         |0.3                  |9.3         |2.5                 |\n",
            "|1.0     |2019-11-01          |2019-11-01           |2.0            |2.4          |1.0       |N                 |246.0       |239.0       |1.0         |10.0       |3.0  |0.5    |2.75      |0.0         |0.3                  |16.55       |2.5                 |\n",
            "+--------+--------------------+---------------------+---------------+-------------+----------+------------------+------------+------------+------------+-----------+-----+-------+----------+------------+---------------------+------------+--------------------+\n",
            "only showing top 10 rows\n",
            "\n"
          ]
        }
      ]
    },
    {
      "cell_type": "code",
      "source": [
        "df12 = spark \\\n",
        "    .read \\\n",
        "    .format(\"jdbc\") \\\n",
        "    .option(\"driver\", driver) \\\n",
        "    .option(\"url\", jdbc_url12) \\\n",
        "    .option(\"dbtable\", table_name) \\\n",
        "    .load()\n",
        "# df.printSchema()\n",
        "df12.show(10, False)"
      ],
      "metadata": {
        "colab": {
          "base_uri": "https://localhost:8080/"
        },
        "id": "LEFxlsHKGsGK",
        "outputId": "d8506545-fc40-4889-a9f1-a84a21035820"
      },
      "execution_count": 17,
      "outputs": [
        {
          "output_type": "stream",
          "name": "stdout",
          "text": [
            "+--------+--------------------+---------------------+---------------+-------------+----------+------------------+------------+------------+------------+-----------+-----+-------+----------+------------+---------------------+------------+--------------------+\n",
            "|vendorid|tpep_pickup_datetime|tpep_dropoff_datetime|passenger_count|trip_distance|ratecodeid|store_and_fwd_flag|pulocationid|dolocationid|payment_type|fare_amount|extra|mta_tax|tip_amount|tolls_amount|improvement_surcharge|total_amount|congestion_surcharge|\n",
            "+--------+--------------------+---------------------+---------------+-------------+----------+------------------+------------+------------+------------+-----------+-----+-------+----------+------------+---------------------+------------+--------------------+\n",
            "|1.0     |2019-12-01          |2019-12-01           |1.0            |4.2          |1.0       |N                 |142.0       |116.0       |2.0         |14.5       |3.0  |0.5    |0.0       |0.0         |0.3                  |18.3        |2.5                 |\n",
            "|1.0     |2019-12-01          |2019-12-01           |1.0            |0.0          |1.0       |N                 |145.0       |145.0       |2.0         |2.5        |0.5  |0.5    |0.0       |0.0         |0.3                  |3.8         |0.0                 |\n",
            "|1.0     |2019-12-01          |2019-12-01           |1.0            |0.0          |1.0       |N                 |145.0       |145.0       |2.0         |2.5        |0.5  |0.5    |0.0       |0.0         |0.3                  |3.8         |0.0                 |\n",
            "|1.0     |2019-12-01          |2019-12-01           |2.0            |9.4          |1.0       |N                 |138.0       |25.0        |1.0         |28.5       |0.5  |0.5    |10.0      |0.0         |0.3                  |39.8        |0.0                 |\n",
            "|1.0     |2019-12-01          |2019-12-01           |2.0            |1.6          |1.0       |N                 |161.0       |237.0       |2.0         |9.0        |3.0  |0.5    |0.0       |0.0         |0.3                  |12.8        |2.5                 |\n",
            "|1.0     |2019-12-01          |2019-12-01           |2.0            |1.0          |1.0       |N                 |161.0       |230.0       |2.0         |6.5        |3.0  |0.5    |0.0       |0.0         |0.3                  |10.3        |2.5                 |\n",
            "|1.0     |2019-12-01          |2019-12-01           |0.0            |1.7          |1.0       |Y                 |164.0       |163.0       |2.0         |10.0       |3.0  |0.5    |0.0       |0.0         |0.3                  |13.8        |2.5                 |\n",
            "|1.0     |2019-12-01          |2019-12-01           |0.0            |0.5          |1.0       |N                 |79.0        |224.0       |1.0         |4.0        |3.0  |0.5    |1.55      |0.0         |0.3                  |9.35        |2.5                 |\n",
            "|1.0     |2019-12-01          |2019-12-01           |0.0            |1.4          |1.0       |N                 |79.0        |107.0       |2.0         |7.5        |3.0  |0.5    |0.0       |0.0         |0.3                  |11.3        |2.5                 |\n",
            "|1.0     |2019-12-01          |2019-12-01           |1.0            |0.9          |1.0       |N                 |148.0       |4.0         |1.0         |5.5        |3.0  |0.5    |1.85      |0.0         |0.3                  |11.15       |2.5                 |\n",
            "+--------+--------------------+---------------------+---------------+-------------+----------+------------------+------------+------------+------------+-----------+-----+-------+----------+------------+---------------------+------------+--------------------+\n",
            "only showing top 10 rows\n",
            "\n"
          ]
        }
      ]
    },
    {
      "cell_type": "code",
      "source": [
        "# required columns\n",
        "# x = passenger_count, trip_distance, ratecodeid, pulocationid, dolocationid, fare_amount\n",
        "# y = total_amount"
      ],
      "metadata": {
        "id": "rdkhUTllM28W"
      },
      "execution_count": 18,
      "outputs": []
    },
    {
      "cell_type": "code",
      "source": [
        "def spark_shape(self):\n",
        "    return (self.count(), len(self.columns))"
      ],
      "metadata": {
        "id": "R2rWeH2AR22X"
      },
      "execution_count": 19,
      "outputs": []
    },
    {
      "cell_type": "code",
      "source": [
        "spark_shape(df01)"
      ],
      "metadata": {
        "colab": {
          "base_uri": "https://localhost:8080/"
        },
        "id": "GZaAcu3pIaqC",
        "outputId": "ea6921b3-5bdd-42c6-d006-bdcf3f39947e"
      },
      "execution_count": 22,
      "outputs": [
        {
          "output_type": "execute_result",
          "data": {
            "text/plain": [
              "(7019375, 18)"
            ]
          },
          "metadata": {},
          "execution_count": 22
        }
      ]
    },
    {
      "cell_type": "code",
      "source": [
        "from functools import reduce\n",
        "from pyspark.sql import DataFrame\n",
        "\n",
        "#specify DataFrames to concatenate\n",
        "df_list = [df01, df02, df03, df04, df05, df06, df07, df08, df09, df10, df11, df12]\n",
        "\n",
        "#vertically concatenate all DataFrames in list\n",
        "df_all = reduce(DataFrame.unionAll, df_list)\n",
        "\n",
        "#view resulting DataFrame\n",
        "df_all.show()"
      ],
      "metadata": {
        "colab": {
          "base_uri": "https://localhost:8080/"
        },
        "id": "ysbvwRnOJK4a",
        "outputId": "04234c5c-6ac9-4158-a64e-faa665250bba"
      },
      "execution_count": 20,
      "outputs": [
        {
          "output_type": "stream",
          "name": "stdout",
          "text": [
            "+--------+--------------------+---------------------+---------------+-------------+----------+------------------+------------+------------+------------+-----------+-----+-------+----------+------------+---------------------+------------+--------------------+\n",
            "|vendorid|tpep_pickup_datetime|tpep_dropoff_datetime|passenger_count|trip_distance|ratecodeid|store_and_fwd_flag|pulocationid|dolocationid|payment_type|fare_amount|extra|mta_tax|tip_amount|tolls_amount|improvement_surcharge|total_amount|congestion_surcharge|\n",
            "+--------+--------------------+---------------------+---------------+-------------+----------+------------------+------------+------------+------------+-----------+-----+-------+----------+------------+---------------------+------------+--------------------+\n",
            "|     1.0|          2019-02-01|           2019-02-01|            1.0|          2.1|       1.0|                 N|        48.0|       234.0|         1.0|        9.0|  0.5|    0.5|       2.0|         0.0|                  0.3|        12.3|                 0.0|\n",
            "|     1.0|          2019-02-01|           2019-02-01|            1.0|          9.8|       1.0|                 N|       230.0|        93.0|         2.0|       32.0|  0.5|    0.5|       0.0|         0.0|                  0.3|        33.3|                 0.0|\n",
            "|     1.0|          2019-02-01|           2019-02-01|            1.0|          0.0|       1.0|                 N|       145.0|       145.0|         2.0|        2.5|  0.5|    0.5|       0.0|         0.0|                  0.3|         3.8|                 0.0|\n",
            "|     1.0|          2019-02-01|           2019-02-01|            1.0|          0.8|       1.0|                 N|        95.0|        95.0|         2.0|        5.5|  0.5|    0.5|       0.0|         0.0|                  0.3|         6.8|                 0.0|\n",
            "|     1.0|          2019-02-01|           2019-02-01|            1.0|          0.8|       1.0|                 N|       140.0|       263.0|         2.0|        5.0|  0.5|    0.5|       0.0|         0.0|                  0.3|         6.3|                 0.0|\n",
            "|     1.0|          2019-02-01|           2019-02-01|            1.0|          0.8|       1.0|                 N|       229.0|       141.0|         2.0|        4.5|  0.5|    0.5|       0.0|         0.0|                  0.3|         5.8|                 0.0|\n",
            "|     1.0|          2019-02-01|           2019-02-01|            1.0|          0.9|       1.0|                 N|        75.0|        41.0|         2.0|        5.0|  0.5|    0.5|       0.0|         0.0|                  0.3|         6.3|                 0.0|\n",
            "|     1.0|          2019-02-01|           2019-02-01|            1.0|          2.8|       1.0|                 N|       246.0|       229.0|         2.0|       14.0|  0.5|    0.5|       0.0|         0.0|                  0.3|        15.3|                 0.0|\n",
            "|     1.0|          2019-02-01|           2019-02-01|            1.0|          2.1|       1.0|                 N|        79.0|       232.0|         2.0|       10.5|  0.5|    0.5|       0.0|         0.0|                  0.3|        11.8|                 0.0|\n",
            "|     2.0|          2019-01-31|           2019-01-31|            1.0|         0.49|       1.0|                 N|       170.0|       234.0|         1.0|        4.0|  0.5|    0.5|       1.7|         0.0|                  0.3|         7.0|                 0.0|\n",
            "|     2.0|          2019-01-31|           2019-01-31|            1.0|         1.61|       1.0|                 N|       107.0|       161.0|         1.0|        8.0|  0.5|    0.5|      2.32|         0.0|                  0.3|       11.62|                 0.0|\n",
            "|     2.0|          2019-01-31|           2019-02-01|            1.0|          1.5|       1.0|                 N|       107.0|       148.0|         1.0|        7.5|  0.5|    0.5|      1.76|         0.0|                  0.3|       10.56|                 0.0|\n",
            "|     1.0|          2019-02-01|           2019-02-01|            2.0|          1.8|       1.0|                 N|        68.0|       246.0|         1.0|        9.0|  0.5|    0.5|      2.05|         0.0|                  0.3|       12.35|                 0.0|\n",
            "|     1.0|          2019-02-01|           2019-02-01|            1.0|          0.8|       1.0|                 N|       246.0|        68.0|         1.0|        5.5|  0.5|    0.5|       2.0|         0.0|                  0.3|         8.8|                 0.0|\n",
            "|     1.0|          2019-02-01|           2019-02-01|            1.0|          0.4|       1.0|                 N|       161.0|       162.0|         2.0|        4.5|  0.5|    0.5|       0.0|         0.0|                  0.3|         5.8|                 0.0|\n",
            "|     2.0|          2019-01-31|           2019-02-01|            1.0|         4.43|       1.0|                 N|       161.0|       249.0|         1.0|       18.5|  0.5|    0.5|      4.95|         0.0|                  0.3|       24.75|                 0.0|\n",
            "|     1.0|          2019-02-01|           2019-02-01|            1.0|          1.0|       1.0|                 N|       144.0|       232.0|         2.0|        6.0|  0.5|    0.5|       0.0|         0.0|                  0.3|         7.3|                 0.0|\n",
            "|     1.0|          2019-02-01|           2019-02-01|            1.0|          9.0|       1.0|                 N|       185.0|       166.0|         1.0|       26.0|  0.5|    0.5|       7.5|         0.0|                  0.3|        34.8|                 0.0|\n",
            "|     1.0|          2019-02-01|           2019-02-01|            1.0|          1.8|       1.0|                 N|       163.0|       239.0|         1.0|        8.5|  0.5|    0.5|      1.95|         0.0|                  0.3|       11.75|                 0.0|\n",
            "|     1.0|          2019-02-01|           2019-02-01|            1.0|         10.3|       1.0|                 N|       161.0|        18.0|         1.0|       30.0|  0.5|    0.5|       3.0|         0.0|                  0.3|        34.3|                 0.0|\n",
            "+--------+--------------------+---------------------+---------------+-------------+----------+------------------+------------+------------+------------+-----------+-----+-------+----------+------------+---------------------+------------+--------------------+\n",
            "only showing top 20 rows\n",
            "\n"
          ]
        }
      ]
    },
    {
      "cell_type": "code",
      "source": [
        "spark_shape(df_all)"
      ],
      "metadata": {
        "colab": {
          "base_uri": "https://localhost:8080/"
        },
        "id": "VhVHK_RAKdSC",
        "outputId": "d245a027-4b3e-48e4-e6ce-f2e012449ef1"
      },
      "execution_count": 24,
      "outputs": [
        {
          "output_type": "execute_result",
          "data": {
            "text/plain": [
              "(84399019, 18)"
            ]
          },
          "metadata": {},
          "execution_count": 24
        }
      ]
    },
    {
      "cell_type": "code",
      "source": [
        "df_req = df_all.select(['trip_distance', 'fare_amount', 'total_amount'])"
      ],
      "metadata": {
        "id": "0CwIq-lDgxbQ"
      },
      "execution_count": 21,
      "outputs": []
    },
    {
      "cell_type": "code",
      "source": [
        "df_nonull = df_req.na.drop()"
      ],
      "metadata": {
        "id": "P9ZnIX0-NNe8"
      },
      "execution_count": 22,
      "outputs": []
    },
    {
      "cell_type": "code",
      "source": [
        "spark_shape(df_nonull)"
      ],
      "metadata": {
        "colab": {
          "base_uri": "https://localhost:8080/"
        },
        "id": "ZC1MqGVgf4Zx",
        "outputId": "fbec76c7-3a70-4ef2-b5b2-411c1dcfd2c6"
      },
      "execution_count": 29,
      "outputs": [
        {
          "output_type": "execute_result",
          "data": {
            "text/plain": [
              "(84152418, 18)"
            ]
          },
          "metadata": {},
          "execution_count": 29
        }
      ]
    },
    {
      "cell_type": "code",
      "source": [
        "df_plot = df_nonull.limit(1000)"
      ],
      "metadata": {
        "id": "-K2w5W9of85o"
      },
      "execution_count": 30,
      "outputs": []
    },
    {
      "cell_type": "code",
      "source": [
        "df_plot.show()"
      ],
      "metadata": {
        "colab": {
          "base_uri": "https://localhost:8080/"
        },
        "id": "ou-z4XFxmdPI",
        "outputId": "598d03e2-aa6b-4edd-8dd2-1e9f85935ea4"
      },
      "execution_count": 34,
      "outputs": [
        {
          "output_type": "stream",
          "name": "stdout",
          "text": [
            "+---------------+-------------+----------+------------+------------+-----------+------------+\n",
            "|passenger_count|trip_distance|ratecodeid|pulocationid|dolocationid|fare_amount|total_amount|\n",
            "+---------------+-------------+----------+------------+------------+-----------+------------+\n",
            "|            1.0|          2.1|       1.0|        48.0|       234.0|        9.0|        12.3|\n",
            "|            1.0|          9.8|       1.0|       230.0|        93.0|       32.0|        33.3|\n",
            "|            1.0|          0.0|       1.0|       145.0|       145.0|        2.5|         3.8|\n",
            "|            1.0|          0.8|       1.0|        95.0|        95.0|        5.5|         6.8|\n",
            "|            1.0|          0.8|       1.0|       140.0|       263.0|        5.0|         6.3|\n",
            "|            1.0|          0.8|       1.0|       229.0|       141.0|        4.5|         5.8|\n",
            "|            1.0|          0.9|       1.0|        75.0|        41.0|        5.0|         6.3|\n",
            "|            1.0|          2.8|       1.0|       246.0|       229.0|       14.0|        15.3|\n",
            "|            1.0|          2.1|       1.0|        79.0|       232.0|       10.5|        11.8|\n",
            "|            1.0|         0.49|       1.0|       170.0|       234.0|        4.0|         7.0|\n",
            "|            1.0|         1.61|       1.0|       107.0|       161.0|        8.0|       11.62|\n",
            "|            1.0|          1.5|       1.0|       107.0|       148.0|        7.5|       10.56|\n",
            "|            2.0|          1.8|       1.0|        68.0|       246.0|        9.0|       12.35|\n",
            "|            1.0|          0.8|       1.0|       246.0|        68.0|        5.5|         8.8|\n",
            "|            1.0|          0.4|       1.0|       161.0|       162.0|        4.5|         5.8|\n",
            "|            1.0|         4.43|       1.0|       161.0|       249.0|       18.5|       24.75|\n",
            "|            1.0|          1.0|       1.0|       144.0|       232.0|        6.0|         7.3|\n",
            "|            1.0|          9.0|       1.0|       185.0|       166.0|       26.0|        34.8|\n",
            "|            1.0|          1.8|       1.0|       163.0|       239.0|        8.5|       11.75|\n",
            "|            1.0|         10.3|       1.0|       161.0|        18.0|       30.0|        34.3|\n",
            "+---------------+-------------+----------+------------+------------+-----------+------------+\n",
            "only showing top 20 rows\n",
            "\n"
          ]
        }
      ]
    },
    {
      "cell_type": "code",
      "source": [
        "import matplotlib.pyplot as plt\n",
        "\n",
        "df_pandas = df_plot.toPandas()\n",
        "df_pandas.plot.scatter(x='total_amount', y='fare_amount')\n",
        "plt.show()"
      ],
      "metadata": {
        "colab": {
          "base_uri": "https://localhost:8080/",
          "height": 450
        },
        "id": "L-lfTBEingdI",
        "outputId": "3e89c024-a3ec-4e66-efce-b28a7e91be4a"
      },
      "execution_count": 77,
      "outputs": [
        {
          "output_type": "display_data",
          "data": {
            "text/plain": [
              "<Figure size 640x480 with 1 Axes>"
            ],
            "image/png": "[encoded data removed]"
          },
          "metadata": {}
        }
      ]
    },
    {
      "cell_type": "code",
      "source": [
        "df_pandas.plot.scatter(x='total_amount', y='trip_distance')\n",
        "plt.show()"
      ],
      "metadata": {
        "colab": {
          "base_uri": "https://localhost:8080/",
          "height": 450
        },
        "id": "UIouYW7Ynq0I",
        "outputId": "503f84dc-ac08-428e-b244-b9a267b7d638"
      },
      "execution_count": 44,
      "outputs": [
        {
          "output_type": "display_data",
          "data": {
            "text/plain": [
              "<Figure size 640x480 with 1 Axes>"
            ],
            "image/png": "[encoded data removed]"
          },
          "metadata": {}
        }
      ]
    },
    {
      "cell_type": "code",
      "source": [
        "df_pandas.plot.scatter(x='trip_distance', y='fare_amount')\n",
        "plt.show()"
      ],
      "metadata": {
        "colab": {
          "base_uri": "https://localhost:8080/",
          "height": 450
        },
        "id": "ITHWPA89oBZy",
        "outputId": "edb0e598-a4cc-48f4-80e2-a8052623ce6b"
      },
      "execution_count": 45,
      "outputs": [
        {
          "output_type": "display_data",
          "data": {
            "text/plain": [
              "<Figure size 640x480 with 1 Axes>"
            ],
            "image/png": "[encoded data removed]"
          },
          "metadata": {}
        }
      ]
    },
    {
      "cell_type": "code",
      "source": [
        "df_pandas.corr()"
      ],
      "metadata": {
        "colab": {
          "base_uri": "https://localhost:8080/",
          "height": 269
        },
        "id": "xLgo_DLyoXNA",
        "outputId": "09425bd6-d773-464f-b4ab-7ba6abdf1410"
      },
      "execution_count": 49,
      "outputs": [
        {
          "output_type": "execute_result",
          "data": {
            "text/plain": [
              "                 passenger_count  trip_distance  ratecodeid  pulocationid  \\\n",
              "passenger_count         1.000000      -0.017817   -0.058146     -0.031410   \n",
              "trip_distance          -0.017817       1.000000    0.116349     -0.050439   \n",
              "ratecodeid             -0.058146       0.116349    1.000000      0.007265   \n",
              "pulocationid           -0.031410      -0.050439    0.007265      1.000000   \n",
              "dolocationid           -0.062201      -0.019379    0.034158      0.107264   \n",
              "fare_amount            -0.023941       0.911352    0.366229     -0.032235   \n",
              "total_amount           -0.019431       0.872169    0.340844     -0.036278   \n",
              "\n",
              "                 dolocationid  fare_amount  total_amount  \n",
              "passenger_count     -0.062201    -0.023941     -0.019431  \n",
              "trip_distance       -0.019379     0.911352      0.872169  \n",
              "ratecodeid           0.034158     0.366229      0.340844  \n",
              "pulocationid         0.107264    -0.032235     -0.036278  \n",
              "dolocationid         1.000000    -0.013838      0.001705  \n",
              "fare_amount         -0.013838     1.000000      0.945282  \n",
              "total_amount         0.001705     0.945282      1.000000  "
            ],
            "text/html": [
              "\n",
              "  <div id=\"df-10316c37-ee14-43db-b5f6-9da63452d2d7\" class=\"colab-df-container\">\n",
              "    <div>\n",
              "<style scoped>\n",
              "    .dataframe tbody tr th:only-of-type {\n",
              "        vertical-align: middle;\n",
              "    }\n",
              "\n",
              "    .dataframe tbody tr th {\n",
              "        vertical-align: top;\n",
              "    }\n",
              "\n",
              "    .dataframe thead th {\n",
              "        text-align: right;\n",
              "    }\n",
              "</style>\n",
              "<table border=\"1\" class=\"dataframe\">\n",
              "  <thead>\n",
              "    <tr style=\"text-align: right;\">\n",
              "      <th></th>\n",
              "      <th>passenger_count</th>\n",
              "      <th>trip_distance</th>\n",
              "      <th>ratecodeid</th>\n",
              "      <th>pulocationid</th>\n",
              "      <th>dolocationid</th>\n",
              "      <th>fare_amount</th>\n",
              "      <th>total_amount</th>\n",
              "    </tr>\n",
              "  </thead>\n",
              "  <tbody>\n",
              "    <tr>\n",
              "      <th>passenger_count</th>\n",
              "      <td>1.000000</td>\n",
              "      <td>-0.017817</td>\n",
              "      <td>-0.058146</td>\n",
              "      <td>-0.031410</td>\n",
              "      <td>-0.062201</td>\n",
              "      <td>-0.023941</td>\n",
              "      <td>-0.019431</td>\n",
              "    </tr>\n",
              "    <tr>\n",
              "      <th>trip_distance</th>\n",
              "      <td>-0.017817</td>\n",
              "      <td>1.000000</td>\n",
              "      <td>0.116349</td>\n",
              "      <td>-0.050439</td>\n",
              "      <td>-0.019379</td>\n",
              "      <td>0.911352</td>\n",
              "      <td>0.872169</td>\n",
              "    </tr>\n",
              "    <tr>\n",
              "      <th>ratecodeid</th>\n",
              "      <td>-0.058146</td>\n",
              "      <td>0.116349</td>\n",
              "      <td>1.000000</td>\n",
              "      <td>0.007265</td>\n",
              "      <td>0.034158</td>\n",
              "      <td>0.366229</td>\n",
              "      <td>0.340844</td>\n",
              "    </tr>\n",
              "    <tr>\n",
              "      <th>pulocationid</th>\n",
              "      <td>-0.031410</td>\n",
              "      <td>-0.050439</td>\n",
              "      <td>0.007265</td>\n",
              "      <td>1.000000</td>\n",
              "      <td>0.107264</td>\n",
              "      <td>-0.032235</td>\n",
              "      <td>-0.036278</td>\n",
              "    </tr>\n",
              "    <tr>\n",
              "      <th>dolocationid</th>\n",
              "      <td>-0.062201</td>\n",
              "      <td>-0.019379</td>\n",
              "      <td>0.034158</td>\n",
              "      <td>0.107264</td>\n",
              "      <td>1.000000</td>\n",
              "      <td>-0.013838</td>\n",
              "      <td>0.001705</td>\n",
              "    </tr>\n",
              "    <tr>\n",
              "      <th>fare_amount</th>\n",
              "      <td>-0.023941</td>\n",
              "      <td>0.911352</td>\n",
              "      <td>0.366229</td>\n",
              "      <td>-0.032235</td>\n",
              "      <td>-0.013838</td>\n",
              "      <td>1.000000</td>\n",
              "      <td>0.945282</td>\n",
              "    </tr>\n",
              "    <tr>\n",
              "      <th>total_amount</th>\n",
              "      <td>-0.019431</td>\n",
              "      <td>0.872169</td>\n",
              "      <td>0.340844</td>\n",
              "      <td>-0.036278</td>\n",
              "      <td>0.001705</td>\n",
              "      <td>0.945282</td>\n",
              "      <td>1.000000</td>\n",
              "    </tr>\n",
              "  </tbody>\n",
              "</table>\n",
              "</div>\n",
              "    <div class=\"colab-df-buttons\">\n",
              "\n",
              "  <div class=\"colab-df-container\">\n",
              "    <button class=\"colab-df-convert\" onclick=\"convertToInteractive('df-10316c37-ee14-43db-b5f6-9da63452d2d7')\"\n",
              "            title=\"Convert this dataframe to an interactive table.\"\n",
              "            style=\"display:none;\">\n",
              "\n",
              "  <svg xmlns=\"http://www.w3.org/2000/svg\" height=\"24px\" viewBox=\"0 -960 960 960\">\n",
              "    <path d=\"M120-120v-720h720v720H120Zm60-500h600v-160H180v160Zm220 220h160v-160H400v160Zm0 220h160v-160H400v160ZM180-400h160v-160H180v160Zm440 0h160v-160H620v160ZM180-180h160v-160H180v160Zm440 0h160v-160H620v160Z\"/>\n",
              "  </svg>\n",
              "    </button>\n",
              "\n",
              "  <style>\n",
              "    .colab-df-container {\n",
              "      display:flex;\n",
              "      gap: 12px;\n",
              "    }\n",
              "\n",
              "    .colab-df-convert {\n",
              "      background-color: #E8F0FE;\n",
              "      border: none;\n",
              "      border-radius: 50%;\n",
              "      cursor: pointer;\n",
              "      display: none;\n",
              "      fill: #1967D2;\n",
              "      height: 32px;\n",
              "      padding: 0 0 0 0;\n",
              "      width: 32px;\n",
              "    }\n",
              "\n",
              "    .colab-df-convert:hover {\n",
              "      background-color: #E2EBFA;\n",
              "      box-shadow: 0px 1px 2px rgba(60, 64, 67, 0.3), 0px 1px 3px 1px rgba(60, 64, 67, 0.15);\n",
              "      fill: #174EA6;\n",
              "    }\n",
              "\n",
              "    .colab-df-buttons div {\n",
              "      margin-bottom: 4px;\n",
              "    }\n",
              "\n",
              "    [theme=dark] .colab-df-convert {\n",
              "      background-color: #3B4455;\n",
              "      fill: #D2E3FC;\n",
              "    }\n",
              "\n",
              "    [theme=dark] .colab-df-convert:hover {\n",
              "      background-color: #434B5C;\n",
              "      box-shadow: 0px 1px 3px 1px rgba(0, 0, 0, 0.15);\n",
              "      filter: drop-shadow(0px 1px 2px rgba(0, 0, 0, 0.3));\n",
              "      fill: #FFFFFF;\n",
              "    }\n",
              "  </style>\n",
              "\n",
              "    <script>\n",
              "      const buttonEl =\n",
              "        document.querySelector('#df-10316c37-ee14-43db-b5f6-9da63452d2d7 button.colab-df-convert');\n",
              "      buttonEl.style.display =\n",
              "        google.colab.kernel.accessAllowed ? 'block' : 'none';\n",
              "\n",
              "      async function convertToInteractive(key) {\n",
              "        const element = document.querySelector('#df-10316c37-ee14-43db-b5f6-9da63452d2d7');\n",
              "        const dataTable =\n",
              "          await google.colab.kernel.invokeFunction('convertToInteractive',\n",
              "                                                    [key], {});\n",
              "        if (!dataTable) return;\n",
              "\n",
              "        const docLinkHtml = 'Like what you see? Visit the ' +\n",
              "          '<a target=\"_blank\" href=https://colab.research.google.com/notebooks/data_table.ipynb>data table notebook</a>'\n",
              "          + ' to learn more about interactive tables.';\n",
              "        element.innerHTML = '';\n",
              "        dataTable['output_type'] = 'display_data';\n",
              "        await google.colab.output.renderOutput(dataTable, element);\n",
              "        const docLink = document.createElement('div');\n",
              "        docLink.innerHTML = docLinkHtml;\n",
              "        element.appendChild(docLink);\n",
              "      }\n",
              "    </script>\n",
              "  </div>\n",
              "\n",
              "\n",
              "<div id=\"df-c0e75274-5d7e-4360-b4be-d48831324104\">\n",
              "  <button class=\"colab-df-quickchart\" onclick=\"quickchart('df-c0e75274-5d7e-4360-b4be-d48831324104')\"\n",
              "            title=\"Suggest charts\"\n",
              "            style=\"display:none;\">\n",
              "\n",
              "<svg xmlns=\"http://www.w3.org/2000/svg\" height=\"24px\"viewBox=\"0 0 24 24\"\n",
              "     width=\"24px\">\n",
              "    <g>\n",
              "        <path d=\"M19 3H5c-1.1 0-2 .9-2 2v14c0 1.1.9 2 2 2h14c1.1 0 2-.9 2-2V5c0-1.1-.9-2-2-2zM9 17H7v-7h2v7zm4 0h-2V7h2v10zm4 0h-2v-4h2v4z\"/>\n",
              "    </g>\n",
              "</svg>\n",
              "  </button>\n",
              "\n",
              "<style>\n",
              "  .colab-df-quickchart {\n",
              "      --bg-color: #E8F0FE;\n",
              "      --fill-color: #1967D2;\n",
              "      --hover-bg-color: #E2EBFA;\n",
              "      --hover-fill-color: #174EA6;\n",
              "      --disabled-fill-color: #AAA;\n",
              "      --disabled-bg-color: #DDD;\n",
              "  }\n",
              "\n",
              "  [theme=dark] .colab-df-quickchart {\n",
              "      --bg-color: #3B4455;\n",
              "      --fill-color: #D2E3FC;\n",
              "      --hover-bg-color: #434B5C;\n",
              "      --hover-fill-color: #FFFFFF;\n",
              "      --disabled-bg-color: #3B4455;\n",
              "      --disabled-fill-color: #666;\n",
              "  }\n",
              "\n",
              "  .colab-df-quickchart {\n",
              "    background-color: var(--bg-color);\n",
              "    border: none;\n",
              "    border-radius: 50%;\n",
              "    cursor: pointer;\n",
              "    display: none;\n",
              "    fill: var(--fill-color);\n",
              "    height: 32px;\n",
              "    padding: 0;\n",
              "    width: 32px;\n",
              "  }\n",
              "\n",
              "  .colab-df-quickchart:hover {\n",
              "    background-color: var(--hover-bg-color);\n",
              "    box-shadow: 0 1px 2px rgba(60, 64, 67, 0.3), 0 1px 3px 1px rgba(60, 64, 67, 0.15);\n",
              "    fill: var(--button-hover-fill-color);\n",
              "  }\n",
              "\n",
              "  .colab-df-quickchart-complete:disabled,\n",
              "  .colab-df-quickchart-complete:disabled:hover {\n",
              "    background-color: var(--disabled-bg-color);\n",
              "    fill: var(--disabled-fill-color);\n",
              "    box-shadow: none;\n",
              "  }\n",
              "\n",
              "  .colab-df-spinner {\n",
              "    border: 2px solid var(--fill-color);\n",
              "    border-color: transparent;\n",
              "    border-bottom-color: var(--fill-color);\n",
              "    animation:\n",
              "      spin 1s steps(1) infinite;\n",
              "  }\n",
              "\n",
              "  @keyframes spin {\n",
              "    0% {\n",
              "      border-color: transparent;\n",
              "      border-bottom-color: var(--fill-color);\n",
              "      border-left-color: var(--fill-color);\n",
              "    }\n",
              "    20% {\n",
              "      border-color: transparent;\n",
              "      border-left-color: var(--fill-color);\n",
              "      border-top-color: var(--fill-color);\n",
              "    }\n",
              "    30% {\n",
              "      border-color: transparent;\n",
              "      border-left-color: var(--fill-color);\n",
              "      border-top-color: var(--fill-color);\n",
              "      border-right-color: var(--fill-color);\n",
              "    }\n",
              "    40% {\n",
              "      border-color: transparent;\n",
              "      border-right-color: var(--fill-color);\n",
              "      border-top-color: var(--fill-color);\n",
              "    }\n",
              "    60% {\n",
              "      border-color: transparent;\n",
              "      border-right-color: var(--fill-color);\n",
              "    }\n",
              "    80% {\n",
              "      border-color: transparent;\n",
              "      border-right-color: var(--fill-color);\n",
              "      border-bottom-color: var(--fill-color);\n",
              "    }\n",
              "    90% {\n",
              "      border-color: transparent;\n",
              "      border-bottom-color: var(--fill-color);\n",
              "    }\n",
              "  }\n",
              "</style>\n",
              "\n",
              "  <script>\n",
              "    async function quickchart(key) {\n",
              "      const quickchartButtonEl =\n",
              "        document.querySelector('#' + key + ' button');\n",
              "      quickchartButtonEl.disabled = true;  // To prevent multiple clicks.\n",
              "      quickchartButtonEl.classList.add('colab-df-spinner');\n",
              "      try {\n",
              "        const charts = await google.colab.kernel.invokeFunction(\n",
              "            'suggestCharts', [key], {});\n",
              "      } catch (error) {\n",
              "        console.error('Error during call to suggestCharts:', error);\n",
              "      }\n",
              "      quickchartButtonEl.classList.remove('colab-df-spinner');\n",
              "      quickchartButtonEl.classList.add('colab-df-quickchart-complete');\n",
              "    }\n",
              "    (() => {\n",
              "      let quickchartButtonEl =\n",
              "        document.querySelector('#df-c0e75274-5d7e-4360-b4be-d48831324104 button');\n",
              "      quickchartButtonEl.style.display =\n",
              "        google.colab.kernel.accessAllowed ? 'block' : 'none';\n",
              "    })();\n",
              "  </script>\n",
              "</div>\n",
              "\n",
              "    </div>\n",
              "  </div>\n"
            ],
            "application/vnd.google.colaboratory.intrinsic+json": {
              "type": "dataframe",
              "summary": "{\n  \"name\": \"df_pandas\",\n  \"rows\": 7,\n  \"fields\": [\n    {\n      \"column\": \"passenger_count\",\n      \"properties\": {\n        \"dtype\": \"number\",\n        \"std\": 0.3917931415374682,\n        \"min\": -0.0622008908625481,\n        \"max\": 1.0,\n        \"num_unique_values\": 7,\n        \"samples\": [\n          1.0,\n          -0.017817482151783953,\n          -0.023940832721062667\n        ],\n        \"semantic_type\": \"\",\n        \"description\": \"\"\n      }\n    },\n    {\n      \"column\": \"trip_distance\",\n      \"properties\": {\n        \"dtype\": \"number\",\n        \"std\": 0.49635425026461094,\n        \"min\": -0.050438656251117465,\n        \"max\": 1.0,\n        \"num_unique_values\": 7,\n        \"samples\": [\n          -0.017817482151783953,\n          1.0,\n          0.9113515832883202\n        ],\n        \"semantic_type\": \"\",\n        \"description\": \"\"\n      }\n    },\n    {\n      \"column\": \"ratecodeid\",\n      \"properties\": {\n        \"dtype\": \"number\",\n        \"std\": 0.36563350747530843,\n        \"min\": -0.058145735606928095,\n        \"max\": 1.0,\n        \"num_unique_values\": 7,\n        \"samples\": [\n          -0.058145735606928095,\n          0.11634895739929355,\n          0.36622927160904833\n        ],\n        \"semantic_type\": \"\",\n        \"description\": \"\"\n      }\n    },\n    {\n      \"column\": \"pulocationid\",\n      \"properties\": {\n        \"dtype\": \"number\",\n        \"std\": 0.3839795286527933,\n        \"min\": -0.050438656251117465,\n        \"max\": 1.0,\n        \"num_unique_values\": 7,\n        \"samples\": [\n          -0.031409682884958226,\n          -0.050438656251117465,\n          -0.032235292446643846\n        ],\n        \"semantic_type\": \"\",\n        \"description\": \"\"\n      }\n    },\n    {\n      \"column\": \"dolocationid\",\n      \"properties\": {\n        \"dtype\": \"number\",\n        \"std\": 0.3786593763561621,\n        \"min\": -0.0622008908625481,\n        \"max\": 1.0,\n        \"num_unique_values\": 7,\n        \"samples\": [\n          -0.0622008908625481,\n          -0.01937855760301714,\n          -0.013838336797324933\n        ],\n        \"semantic_type\": \"\",\n        \"description\": \"\"\n      }\n    },\n    {\n      \"column\": \"fare_amount\",\n      \"properties\": {\n        \"dtype\": \"number\",\n        \"std\": 0.48989501786672024,\n        \"min\": -0.032235292446643846,\n        \"max\": 1.0,\n        \"num_unique_values\": 7,\n        \"samples\": [\n          -0.023940832721062667,\n          0.9113515832883202,\n          1.0\n        ],\n        \"semantic_type\": \"\",\n        \"description\": \"\"\n      }\n    },\n    {\n      \"column\": \"total_amount\",\n      \"properties\": {\n        \"dtype\": \"number\",\n        \"std\": 0.4822598922034012,\n        \"min\": -0.036278093290229824,\n        \"max\": 1.0,\n        \"num_unique_values\": 7,\n        \"samples\": [\n          -0.01943127291591311,\n          0.8721689030109099,\n          0.9452820601026094\n        ],\n        \"semantic_type\": \"\",\n        \"description\": \"\"\n      }\n    }\n  ]\n}"
            }
          },
          "metadata": {},
          "execution_count": 49
        }
      ]
    },
    {
      "cell_type": "code",
      "source": [
        "# Using both fare_amount and trip distance columns even though it has multicolinearity problem since we only want to make a prediction, we do not want to know the value of co efficients\n",
        "from pyspark.ml.feature import VectorAssembler\n",
        "feature_assembler = VectorAssembler(inputCols=['trip_distance', 'fare_amount'], outputCol='Independent features')\n",
        "output = feature_assembler.transform(df_nonull)"
      ],
      "metadata": {
        "id": "fiPxTg9XpGqY"
      },
      "execution_count": 51,
      "outputs": []
    },
    {
      "cell_type": "code",
      "source": [
        "final_df = output.select(['Independent features', 'total_amount'])\n",
        "final_df.show()"
      ],
      "metadata": {
        "colab": {
          "base_uri": "https://localhost:8080/"
        },
        "id": "6r6OTma9rIzS",
        "outputId": "fd5cda16-733d-4598-8898-da03e2150f25"
      },
      "execution_count": 54,
      "outputs": [
        {
          "output_type": "stream",
          "name": "stdout",
          "text": [
            "+--------------------+------------+\n",
            "|Independent features|total_amount|\n",
            "+--------------------+------------+\n",
            "|[2.09999990463256...|        12.3|\n",
            "|[9.80000019073486...|        33.3|\n",
            "|           [0.0,2.5]|         3.8|\n",
            "|[0.80000001192092...|         6.8|\n",
            "|[0.80000001192092...|         6.3|\n",
            "|[0.80000001192092...|         5.8|\n",
            "|[0.89999997615814...|         6.3|\n",
            "|[2.79999995231628...|        15.3|\n",
            "|[2.09999990463256...|        11.8|\n",
            "|[0.49000000953674...|         7.0|\n",
            "|[1.61000001430511...|       11.62|\n",
            "|           [1.5,7.5]|       10.56|\n",
            "|[1.79999995231628...|       12.35|\n",
            "|[0.80000001192092...|         8.8|\n",
            "|[0.40000000596046...|         5.8|\n",
            "|[4.42999982833862...|       24.75|\n",
            "|           [1.0,6.0]|         7.3|\n",
            "|          [9.0,26.0]|        34.8|\n",
            "|[1.79999995231628...|       11.75|\n",
            "|[10.3000001907348...|        34.3|\n",
            "+--------------------+------------+\n",
            "only showing top 20 rows\n",
            "\n"
          ]
        }
      ]
    },
    {
      "cell_type": "code",
      "source": [
        "from pyspark.ml.regression import LinearRegression\n",
        "\n",
        "train_data, test_data = final_df.randomSplit([0.8, 0.2])\n",
        "model = LinearRegression(featuresCol = 'Independent features', labelCol = 'total_amount')\n",
        "pred = model.fit(train_data)"
      ],
      "metadata": {
        "id": "zthY9ancrRPZ"
      },
      "execution_count": 62,
      "outputs": []
    },
    {
      "cell_type": "code",
      "source": [
        "eval = pred.evaluate(test_data)\n",
        "eval.predictions.show()"
      ],
      "metadata": {
        "colab": {
          "base_uri": "https://localhost:8080/"
        },
        "id": "mwhKhJL6sz54",
        "outputId": "aea6ffd7-ca7f-4146-b4ab-2bcae4ce254e"
      },
      "execution_count": 63,
      "outputs": [
        {
          "output_type": "stream",
          "name": "stdout",
          "text": [
            "+--------------------+------------+-----------------+\n",
            "|Independent features|total_amount|       prediction|\n",
            "+--------------------+------------+-----------------+\n",
            "|           (2,[],[])|         0.0|4.593160228621552|\n",
            "|           (2,[],[])|         0.0|4.593160228621552|\n",
            "|           (2,[],[])|         0.0|4.593160228621552|\n",
            "|           (2,[],[])|         0.0|4.593160228621552|\n",
            "|           (2,[],[])|         0.0|4.593160228621552|\n",
            "|           (2,[],[])|         0.0|4.593160228621552|\n",
            "|           (2,[],[])|         0.0|4.593160228621552|\n",
            "|           (2,[],[])|         0.0|4.593160228621552|\n",
            "|           (2,[],[])|         0.0|4.593160228621552|\n",
            "|           (2,[],[])|         0.0|4.593160228621552|\n",
            "|           (2,[],[])|         0.0|4.593160228621552|\n",
            "|           (2,[],[])|         0.0|4.593160228621552|\n",
            "|           (2,[],[])|         0.0|4.593160228621552|\n",
            "|           (2,[],[])|         0.0|4.593160228621552|\n",
            "|           (2,[],[])|         0.0|4.593160228621552|\n",
            "|           (2,[],[])|         0.0|4.593160228621552|\n",
            "|           (2,[],[])|         0.0|4.593160228621552|\n",
            "|           (2,[],[])|         0.0|4.593160228621552|\n",
            "|           (2,[],[])|         0.0|4.593160228621552|\n",
            "|           (2,[],[])|         0.0|4.593160228621552|\n",
            "+--------------------+------------+-----------------+\n",
            "only showing top 20 rows\n",
            "\n"
          ]
        }
      ]
    },
    {
      "cell_type": "code",
      "source": [
        "eval.r2, eval.meanAbsoluteError, eval.meanSquaredError"
      ],
      "metadata": {
        "colab": {
          "base_uri": "https://localhost:8080/"
        },
        "id": "tVGpO6prs6F4",
        "outputId": "6281aab8-fbe9-4aef-9972-601e365ea0f3"
      },
      "execution_count": 66,
      "outputs": [
        {
          "output_type": "execute_result",
          "data": {
            "text/plain": [
              "(0.9957993386248388, 2.057147987458262, 74.06376873996042)"
            ]
          },
          "metadata": {},
          "execution_count": 66
        }
      ]
    }
  ]
}